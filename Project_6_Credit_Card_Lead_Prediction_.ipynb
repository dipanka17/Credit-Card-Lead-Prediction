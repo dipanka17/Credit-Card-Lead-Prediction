{
  "nbformat": 4,
  "nbformat_minor": 0,
  "metadata": {
    "colab": {
      "name": "Project 6- Credit Card Lead Prediction .ipynb",
      "provenance": [],
      "collapsed_sections": []
    },
    "kernelspec": {
      "display_name": "Python 3",
      "name": "python3"
    },
    "language_info": {
      "name": "python"
    },
    "widgets": {
      "application/vnd.jupyter.widget-state+json": {
        "6e45190da726473f80fbd316902dccb3": {
          "model_module": "@jupyter-widgets/controls",
          "model_name": "HBoxModel",
          "state": {
            "_view_name": "HBoxView",
            "_dom_classes": [],
            "_model_name": "HBoxModel",
            "_view_module": "@jupyter-widgets/controls",
            "_model_module_version": "1.5.0",
            "_view_count": null,
            "_view_module_version": "1.5.0",
            "box_style": "",
            "layout": "IPY_MODEL_21d3f41162c3455f8be283718100c13f",
            "_model_module": "@jupyter-widgets/controls",
            "children": [
              "IPY_MODEL_e0db82b7015d48c480314672b4d60942",
              "IPY_MODEL_6c76a8b10d0c42599b85eef162ba95e9"
            ]
          }
        },
        "21d3f41162c3455f8be283718100c13f": {
          "model_module": "@jupyter-widgets/base",
          "model_name": "LayoutModel",
          "state": {
            "_view_name": "LayoutView",
            "grid_template_rows": null,
            "right": null,
            "justify_content": null,
            "_view_module": "@jupyter-widgets/base",
            "overflow": null,
            "_model_module_version": "1.2.0",
            "_view_count": null,
            "flex_flow": null,
            "width": null,
            "min_width": null,
            "border": null,
            "align_items": null,
            "bottom": null,
            "_model_module": "@jupyter-widgets/base",
            "top": null,
            "grid_column": null,
            "overflow_y": null,
            "overflow_x": null,
            "grid_auto_flow": null,
            "grid_area": null,
            "grid_template_columns": null,
            "flex": null,
            "_model_name": "LayoutModel",
            "justify_items": null,
            "grid_row": null,
            "max_height": null,
            "align_content": null,
            "visibility": null,
            "align_self": null,
            "height": null,
            "min_height": null,
            "padding": null,
            "grid_auto_rows": null,
            "grid_gap": null,
            "max_width": null,
            "order": null,
            "_view_module_version": "1.2.0",
            "grid_template_areas": null,
            "object_position": null,
            "object_fit": null,
            "grid_auto_columns": null,
            "margin": null,
            "display": null,
            "left": null
          }
        },
        "e0db82b7015d48c480314672b4d60942": {
          "model_module": "@jupyter-widgets/controls",
          "model_name": "FloatProgressModel",
          "state": {
            "_view_name": "ProgressView",
            "style": "IPY_MODEL_02fd3e62677b4c89b44d2f6d5b62a314",
            "_dom_classes": [],
            "description": "Optimization Progress: 100%",
            "_model_name": "FloatProgressModel",
            "bar_style": "",
            "max": 85,
            "_view_module": "@jupyter-widgets/controls",
            "_model_module_version": "1.5.0",
            "value": 85,
            "_view_count": null,
            "_view_module_version": "1.5.0",
            "orientation": "horizontal",
            "min": 0,
            "description_tooltip": null,
            "_model_module": "@jupyter-widgets/controls",
            "layout": "IPY_MODEL_30318c16c5e4411591277125fb259282"
          }
        },
        "6c76a8b10d0c42599b85eef162ba95e9": {
          "model_module": "@jupyter-widgets/controls",
          "model_name": "HTMLModel",
          "state": {
            "_view_name": "HTMLView",
            "style": "IPY_MODEL_8a0141ade8cd4b66a64abfb61c3f9eb1",
            "_dom_classes": [],
            "description": "",
            "_model_name": "HTMLModel",
            "placeholder": "​",
            "_view_module": "@jupyter-widgets/controls",
            "_model_module_version": "1.5.0",
            "value": " 85/85 [1:41:39&lt;00:00, 59.55s/pipeline]",
            "_view_count": null,
            "_view_module_version": "1.5.0",
            "description_tooltip": null,
            "_model_module": "@jupyter-widgets/controls",
            "layout": "IPY_MODEL_31590b9fce4640dfa1cd9e65cf8e82b0"
          }
        },
        "02fd3e62677b4c89b44d2f6d5b62a314": {
          "model_module": "@jupyter-widgets/controls",
          "model_name": "ProgressStyleModel",
          "state": {
            "_view_name": "StyleView",
            "_model_name": "ProgressStyleModel",
            "description_width": "initial",
            "_view_module": "@jupyter-widgets/base",
            "_model_module_version": "1.5.0",
            "_view_count": null,
            "_view_module_version": "1.2.0",
            "bar_color": null,
            "_model_module": "@jupyter-widgets/controls"
          }
        },
        "30318c16c5e4411591277125fb259282": {
          "model_module": "@jupyter-widgets/base",
          "model_name": "LayoutModel",
          "state": {
            "_view_name": "LayoutView",
            "grid_template_rows": null,
            "right": null,
            "justify_content": null,
            "_view_module": "@jupyter-widgets/base",
            "overflow": null,
            "_model_module_version": "1.2.0",
            "_view_count": null,
            "flex_flow": null,
            "width": null,
            "min_width": null,
            "border": null,
            "align_items": null,
            "bottom": null,
            "_model_module": "@jupyter-widgets/base",
            "top": null,
            "grid_column": null,
            "overflow_y": null,
            "overflow_x": null,
            "grid_auto_flow": null,
            "grid_area": null,
            "grid_template_columns": null,
            "flex": null,
            "_model_name": "LayoutModel",
            "justify_items": null,
            "grid_row": null,
            "max_height": null,
            "align_content": null,
            "visibility": null,
            "align_self": null,
            "height": null,
            "min_height": null,
            "padding": null,
            "grid_auto_rows": null,
            "grid_gap": null,
            "max_width": null,
            "order": null,
            "_view_module_version": "1.2.0",
            "grid_template_areas": null,
            "object_position": null,
            "object_fit": null,
            "grid_auto_columns": null,
            "margin": null,
            "display": null,
            "left": null
          }
        },
        "8a0141ade8cd4b66a64abfb61c3f9eb1": {
          "model_module": "@jupyter-widgets/controls",
          "model_name": "DescriptionStyleModel",
          "state": {
            "_view_name": "StyleView",
            "_model_name": "DescriptionStyleModel",
            "description_width": "",
            "_view_module": "@jupyter-widgets/base",
            "_model_module_version": "1.5.0",
            "_view_count": null,
            "_view_module_version": "1.2.0",
            "_model_module": "@jupyter-widgets/controls"
          }
        },
        "31590b9fce4640dfa1cd9e65cf8e82b0": {
          "model_module": "@jupyter-widgets/base",
          "model_name": "LayoutModel",
          "state": {
            "_view_name": "LayoutView",
            "grid_template_rows": null,
            "right": null,
            "justify_content": null,
            "_view_module": "@jupyter-widgets/base",
            "overflow": null,
            "_model_module_version": "1.2.0",
            "_view_count": null,
            "flex_flow": null,
            "width": null,
            "min_width": null,
            "border": null,
            "align_items": null,
            "bottom": null,
            "_model_module": "@jupyter-widgets/base",
            "top": null,
            "grid_column": null,
            "overflow_y": null,
            "overflow_x": null,
            "grid_auto_flow": null,
            "grid_area": null,
            "grid_template_columns": null,
            "flex": null,
            "_model_name": "LayoutModel",
            "justify_items": null,
            "grid_row": null,
            "max_height": null,
            "align_content": null,
            "visibility": null,
            "align_self": null,
            "height": null,
            "min_height": null,
            "padding": null,
            "grid_auto_rows": null,
            "grid_gap": null,
            "max_width": null,
            "order": null,
            "_view_module_version": "1.2.0",
            "grid_template_areas": null,
            "object_position": null,
            "object_fit": null,
            "grid_auto_columns": null,
            "margin": null,
            "display": null,
            "left": null
          }
        },
        "5d646c82a3934f8aa0c8b43e33d99f41": {
          "model_module": "@jupyter-widgets/controls",
          "model_name": "HBoxModel",
          "state": {
            "_view_name": "HBoxView",
            "_dom_classes": [],
            "_model_name": "HBoxModel",
            "_view_module": "@jupyter-widgets/controls",
            "_model_module_version": "1.5.0",
            "_view_count": null,
            "_view_module_version": "1.5.0",
            "box_style": "",
            "layout": "IPY_MODEL_5a4e6975ce324797af49e0001fcc9b66",
            "_model_module": "@jupyter-widgets/controls",
            "children": [
              "IPY_MODEL_9cfcd29aea0b43fca00e022f52fc1b73",
              "IPY_MODEL_86a60cdd7ad249c1bb70967eebff6b52"
            ]
          }
        },
        "5a4e6975ce324797af49e0001fcc9b66": {
          "model_module": "@jupyter-widgets/base",
          "model_name": "LayoutModel",
          "state": {
            "_view_name": "LayoutView",
            "grid_template_rows": null,
            "right": null,
            "justify_content": null,
            "_view_module": "@jupyter-widgets/base",
            "overflow": null,
            "_model_module_version": "1.2.0",
            "_view_count": null,
            "flex_flow": null,
            "width": null,
            "min_width": null,
            "border": null,
            "align_items": null,
            "bottom": null,
            "_model_module": "@jupyter-widgets/base",
            "top": null,
            "grid_column": null,
            "overflow_y": null,
            "overflow_x": null,
            "grid_auto_flow": null,
            "grid_area": null,
            "grid_template_columns": null,
            "flex": null,
            "_model_name": "LayoutModel",
            "justify_items": null,
            "grid_row": null,
            "max_height": null,
            "align_content": null,
            "visibility": null,
            "align_self": null,
            "height": null,
            "min_height": null,
            "padding": null,
            "grid_auto_rows": null,
            "grid_gap": null,
            "max_width": null,
            "order": null,
            "_view_module_version": "1.2.0",
            "grid_template_areas": null,
            "object_position": null,
            "object_fit": null,
            "grid_auto_columns": null,
            "margin": null,
            "display": null,
            "left": null
          }
        },
        "9cfcd29aea0b43fca00e022f52fc1b73": {
          "model_module": "@jupyter-widgets/controls",
          "model_name": "FloatProgressModel",
          "state": {
            "_view_name": "ProgressView",
            "style": "IPY_MODEL_415a1b038f42484e83adcd9109568e04",
            "_dom_classes": [],
            "description": "Optimization Progress: ",
            "_model_name": "FloatProgressModel",
            "bar_style": "",
            "max": 85,
            "_view_module": "@jupyter-widgets/controls",
            "_model_module_version": "1.5.0",
            "value": 85,
            "_view_count": null,
            "_view_module_version": "1.5.0",
            "orientation": "horizontal",
            "min": 0,
            "description_tooltip": null,
            "_model_module": "@jupyter-widgets/controls",
            "layout": "IPY_MODEL_bd88487bcd1e4d568b15128e9334d3de"
          }
        },
        "86a60cdd7ad249c1bb70967eebff6b52": {
          "model_module": "@jupyter-widgets/controls",
          "model_name": "HTMLModel",
          "state": {
            "_view_name": "HTMLView",
            "style": "IPY_MODEL_2fea5bd209f647d2b154220abdcf698a",
            "_dom_classes": [],
            "description": "",
            "_model_name": "HTMLModel",
            "placeholder": "​",
            "_view_module": "@jupyter-widgets/controls",
            "_model_module_version": "1.5.0",
            "value": " 126/? [5:17:01&lt;00:00, 208.57s/pipeline]",
            "_view_count": null,
            "_view_module_version": "1.5.0",
            "description_tooltip": null,
            "_model_module": "@jupyter-widgets/controls",
            "layout": "IPY_MODEL_c5236a1d44a041f6915caca4bb698d59"
          }
        },
        "415a1b038f42484e83adcd9109568e04": {
          "model_module": "@jupyter-widgets/controls",
          "model_name": "ProgressStyleModel",
          "state": {
            "_view_name": "StyleView",
            "_model_name": "ProgressStyleModel",
            "description_width": "initial",
            "_view_module": "@jupyter-widgets/base",
            "_model_module_version": "1.5.0",
            "_view_count": null,
            "_view_module_version": "1.2.0",
            "bar_color": null,
            "_model_module": "@jupyter-widgets/controls"
          }
        },
        "bd88487bcd1e4d568b15128e9334d3de": {
          "model_module": "@jupyter-widgets/base",
          "model_name": "LayoutModel",
          "state": {
            "_view_name": "LayoutView",
            "grid_template_rows": null,
            "right": null,
            "justify_content": null,
            "_view_module": "@jupyter-widgets/base",
            "overflow": null,
            "_model_module_version": "1.2.0",
            "_view_count": null,
            "flex_flow": null,
            "width": null,
            "min_width": null,
            "border": null,
            "align_items": null,
            "bottom": null,
            "_model_module": "@jupyter-widgets/base",
            "top": null,
            "grid_column": null,
            "overflow_y": null,
            "overflow_x": null,
            "grid_auto_flow": null,
            "grid_area": null,
            "grid_template_columns": null,
            "flex": null,
            "_model_name": "LayoutModel",
            "justify_items": null,
            "grid_row": null,
            "max_height": null,
            "align_content": null,
            "visibility": null,
            "align_self": null,
            "height": null,
            "min_height": null,
            "padding": null,
            "grid_auto_rows": null,
            "grid_gap": null,
            "max_width": null,
            "order": null,
            "_view_module_version": "1.2.0",
            "grid_template_areas": null,
            "object_position": null,
            "object_fit": null,
            "grid_auto_columns": null,
            "margin": null,
            "display": null,
            "left": null
          }
        },
        "2fea5bd209f647d2b154220abdcf698a": {
          "model_module": "@jupyter-widgets/controls",
          "model_name": "DescriptionStyleModel",
          "state": {
            "_view_name": "StyleView",
            "_model_name": "DescriptionStyleModel",
            "description_width": "",
            "_view_module": "@jupyter-widgets/base",
            "_model_module_version": "1.5.0",
            "_view_count": null,
            "_view_module_version": "1.2.0",
            "_model_module": "@jupyter-widgets/controls"
          }
        },
        "c5236a1d44a041f6915caca4bb698d59": {
          "model_module": "@jupyter-widgets/base",
          "model_name": "LayoutModel",
          "state": {
            "_view_name": "LayoutView",
            "grid_template_rows": null,
            "right": null,
            "justify_content": null,
            "_view_module": "@jupyter-widgets/base",
            "overflow": null,
            "_model_module_version": "1.2.0",
            "_view_count": null,
            "flex_flow": null,
            "width": null,
            "min_width": null,
            "border": null,
            "align_items": null,
            "bottom": null,
            "_model_module": "@jupyter-widgets/base",
            "top": null,
            "grid_column": null,
            "overflow_y": null,
            "overflow_x": null,
            "grid_auto_flow": null,
            "grid_area": null,
            "grid_template_columns": null,
            "flex": null,
            "_model_name": "LayoutModel",
            "justify_items": null,
            "grid_row": null,
            "max_height": null,
            "align_content": null,
            "visibility": null,
            "align_self": null,
            "height": null,
            "min_height": null,
            "padding": null,
            "grid_auto_rows": null,
            "grid_gap": null,
            "max_width": null,
            "order": null,
            "_view_module_version": "1.2.0",
            "grid_template_areas": null,
            "object_position": null,
            "object_fit": null,
            "grid_auto_columns": null,
            "margin": null,
            "display": null,
            "left": null
          }
        },
        "29583d8ed40b40ed92fa88614827b397": {
          "model_module": "@jupyter-widgets/controls",
          "model_name": "HBoxModel",
          "state": {
            "_view_name": "HBoxView",
            "_dom_classes": [],
            "_model_name": "HBoxModel",
            "_view_module": "@jupyter-widgets/controls",
            "_model_module_version": "1.5.0",
            "_view_count": null,
            "_view_module_version": "1.5.0",
            "box_style": "",
            "layout": "IPY_MODEL_1025fd02b8b94fedb0f19e7ca6ad8bb8",
            "_model_module": "@jupyter-widgets/controls",
            "children": [
              "IPY_MODEL_38c06dbc3fcc4b3cb37d46d529609832",
              "IPY_MODEL_8517b66ed5fa4815bdf048d49907d8bd"
            ]
          }
        },
        "1025fd02b8b94fedb0f19e7ca6ad8bb8": {
          "model_module": "@jupyter-widgets/base",
          "model_name": "LayoutModel",
          "state": {
            "_view_name": "LayoutView",
            "grid_template_rows": null,
            "right": null,
            "justify_content": null,
            "_view_module": "@jupyter-widgets/base",
            "overflow": null,
            "_model_module_version": "1.2.0",
            "_view_count": null,
            "flex_flow": null,
            "width": null,
            "min_width": null,
            "border": null,
            "align_items": null,
            "bottom": null,
            "_model_module": "@jupyter-widgets/base",
            "top": null,
            "grid_column": null,
            "overflow_y": null,
            "overflow_x": null,
            "grid_auto_flow": null,
            "grid_area": null,
            "grid_template_columns": null,
            "flex": null,
            "_model_name": "LayoutModel",
            "justify_items": null,
            "grid_row": null,
            "max_height": null,
            "align_content": null,
            "visibility": null,
            "align_self": null,
            "height": null,
            "min_height": null,
            "padding": null,
            "grid_auto_rows": null,
            "grid_gap": null,
            "max_width": null,
            "order": null,
            "_view_module_version": "1.2.0",
            "grid_template_areas": null,
            "object_position": null,
            "object_fit": null,
            "grid_auto_columns": null,
            "margin": null,
            "display": null,
            "left": null
          }
        },
        "38c06dbc3fcc4b3cb37d46d529609832": {
          "model_module": "@jupyter-widgets/controls",
          "model_name": "FloatProgressModel",
          "state": {
            "_view_name": "ProgressView",
            "style": "IPY_MODEL_12629609cc624d0cb4c524c05498bd16",
            "_dom_classes": [],
            "description": "Optimization Progress: ",
            "_model_name": "FloatProgressModel",
            "bar_style": "",
            "max": 49,
            "_view_module": "@jupyter-widgets/controls",
            "_model_module_version": "1.5.0",
            "value": 49,
            "_view_count": null,
            "_view_module_version": "1.5.0",
            "orientation": "horizontal",
            "min": 0,
            "description_tooltip": null,
            "_model_module": "@jupyter-widgets/controls",
            "layout": "IPY_MODEL_c4c83a755fe5415580302ef8768560c6"
          }
        },
        "8517b66ed5fa4815bdf048d49907d8bd": {
          "model_module": "@jupyter-widgets/controls",
          "model_name": "HTMLModel",
          "state": {
            "_view_name": "HTMLView",
            "style": "IPY_MODEL_10cb9a1145374e4abfde1617d5eb539e",
            "_dom_classes": [],
            "description": "",
            "_model_name": "HTMLModel",
            "placeholder": "​",
            "_view_module": "@jupyter-widgets/controls",
            "_model_module_version": "1.5.0",
            "value": " 53/? [1:15:00&lt;00:00, 93.94s/pipeline]",
            "_view_count": null,
            "_view_module_version": "1.5.0",
            "description_tooltip": null,
            "_model_module": "@jupyter-widgets/controls",
            "layout": "IPY_MODEL_2c426f510c3a40f28a9fcd56f2b9baa0"
          }
        },
        "12629609cc624d0cb4c524c05498bd16": {
          "model_module": "@jupyter-widgets/controls",
          "model_name": "ProgressStyleModel",
          "state": {
            "_view_name": "StyleView",
            "_model_name": "ProgressStyleModel",
            "description_width": "initial",
            "_view_module": "@jupyter-widgets/base",
            "_model_module_version": "1.5.0",
            "_view_count": null,
            "_view_module_version": "1.2.0",
            "bar_color": null,
            "_model_module": "@jupyter-widgets/controls"
          }
        },
        "c4c83a755fe5415580302ef8768560c6": {
          "model_module": "@jupyter-widgets/base",
          "model_name": "LayoutModel",
          "state": {
            "_view_name": "LayoutView",
            "grid_template_rows": null,
            "right": null,
            "justify_content": null,
            "_view_module": "@jupyter-widgets/base",
            "overflow": null,
            "_model_module_version": "1.2.0",
            "_view_count": null,
            "flex_flow": null,
            "width": null,
            "min_width": null,
            "border": null,
            "align_items": null,
            "bottom": null,
            "_model_module": "@jupyter-widgets/base",
            "top": null,
            "grid_column": null,
            "overflow_y": null,
            "overflow_x": null,
            "grid_auto_flow": null,
            "grid_area": null,
            "grid_template_columns": null,
            "flex": null,
            "_model_name": "LayoutModel",
            "justify_items": null,
            "grid_row": null,
            "max_height": null,
            "align_content": null,
            "visibility": null,
            "align_self": null,
            "height": null,
            "min_height": null,
            "padding": null,
            "grid_auto_rows": null,
            "grid_gap": null,
            "max_width": null,
            "order": null,
            "_view_module_version": "1.2.0",
            "grid_template_areas": null,
            "object_position": null,
            "object_fit": null,
            "grid_auto_columns": null,
            "margin": null,
            "display": null,
            "left": null
          }
        },
        "10cb9a1145374e4abfde1617d5eb539e": {
          "model_module": "@jupyter-widgets/controls",
          "model_name": "DescriptionStyleModel",
          "state": {
            "_view_name": "StyleView",
            "_model_name": "DescriptionStyleModel",
            "description_width": "",
            "_view_module": "@jupyter-widgets/base",
            "_model_module_version": "1.5.0",
            "_view_count": null,
            "_view_module_version": "1.2.0",
            "_model_module": "@jupyter-widgets/controls"
          }
        },
        "2c426f510c3a40f28a9fcd56f2b9baa0": {
          "model_module": "@jupyter-widgets/base",
          "model_name": "LayoutModel",
          "state": {
            "_view_name": "LayoutView",
            "grid_template_rows": null,
            "right": null,
            "justify_content": null,
            "_view_module": "@jupyter-widgets/base",
            "overflow": null,
            "_model_module_version": "1.2.0",
            "_view_count": null,
            "flex_flow": null,
            "width": null,
            "min_width": null,
            "border": null,
            "align_items": null,
            "bottom": null,
            "_model_module": "@jupyter-widgets/base",
            "top": null,
            "grid_column": null,
            "overflow_y": null,
            "overflow_x": null,
            "grid_auto_flow": null,
            "grid_area": null,
            "grid_template_columns": null,
            "flex": null,
            "_model_name": "LayoutModel",
            "justify_items": null,
            "grid_row": null,
            "max_height": null,
            "align_content": null,
            "visibility": null,
            "align_self": null,
            "height": null,
            "min_height": null,
            "padding": null,
            "grid_auto_rows": null,
            "grid_gap": null,
            "max_width": null,
            "order": null,
            "_view_module_version": "1.2.0",
            "grid_template_areas": null,
            "object_position": null,
            "object_fit": null,
            "grid_auto_columns": null,
            "margin": null,
            "display": null,
            "left": null
          }
        }
      }
    }
  },
  "cells": [
    {
      "cell_type": "markdown",
      "metadata": {
        "id": "mhU-yocxrcqI"
      },
      "source": [
        "# Credit Card Lead Prediction <br>\n",
        "This competition provides a unique opportunity for Data Science beginners to participate in a Hackathon style challenge for Data Science and compete for potential opportunities in many reputed companies.<br>\n",
        "It also provides the unique opportunities for beginners to get their hands dirty and indulge is practical application of ML and do one of the basic tasks machine learning algorithms are capable of doing:- Classification.<br>\n",
        "\n",
        "If you find this notebook useful and use parts of it in your work, please don't forget to show your appreciation by upvoting this kernel. That keeps me motivated and inspires me to write and share these public kernels. <br>\n",
        "\n",
        "### Problem Statement <br>\n",
        "Our client, Happy Customer Bank is a mid-sized private bank that deals in all kinds of banking products.<br>\n",
        "They also cross-sell products to its existing customers and to do so they use different kinds of communication like tele-calling, e-mails, recommendations on net banking, mobile banking, etc.<br>\n",
        "In this case, they want to cross sell its credit cards to its existing customers.<br>\n",
        "The bank has identified a set of customers that are eligible for taking these credit cards.<br>\n",
        "Given historic data and other data of the customers we have to identify which customers are most likely to accept our cross-sell offer.<br>\n",
        "\n",
        "### Data Description:- <br>\n",
        "We have the following information regarding the customer:\n",
        "\n",
        "- Customer details (gender, age, region etc.)\n",
        "- Details of his/her relationship with the bank (Channel_Code,Vintage, 'Avg_Asset_Value etc.)\n",
        "\n",
        "### Expected Outcome:-<br>\n",
        "- Build a model to predict whether the person will be interested in buying the Credit card offered by our client.\n",
        "- Grading Metric: ROC_AUC_SCORE\n",
        "\n",
        "### Problem Category:-\n",
        "For the data and objective, it’s evident that this is a Binary Classification Problem in the Tabular Data format.<br>\n",
        "\n",
        "So without further ado, let's now start with some basic imports to take us through this journey of Lead prediction:-<br>"
      ]
    },
    {
      "cell_type": "markdown",
      "metadata": {
        "id": "hsgLFZonV-oR"
      },
      "source": [
        "## Importing the data set"
      ]
    },
    {
      "cell_type": "code",
      "metadata": {
        "id": "CWec18EVVy_r"
      },
      "source": [
        "## Importing the Libaries\n",
        "import warnings\n",
        "warnings.filterwarnings('ignore')\n",
        "import pandas as pd\n",
        "import numpy as np\n",
        "import scipy.stats as stats\n",
        "import seaborn as sns\n",
        "import matplotlib.pyplot as plt\n",
        "%matplotlib inline"
      ],
      "execution_count": 1,
      "outputs": []
    },
    {
      "cell_type": "code",
      "metadata": {
        "id": "BrLzsSLsWFjq"
      },
      "source": [
        "## Importing the data set train and test\n",
        "df= pd.read_csv('/content/train.csv')\n",
        "df_test= pd.read_csv('/content/test.csv')"
      ],
      "execution_count": 2,
      "outputs": []
    },
    {
      "cell_type": "code",
      "metadata": {
        "colab": {
          "base_uri": "https://localhost:8080/"
        },
        "id": "0NptxfWKWRXo",
        "outputId": "0bc36159-4307-4182-8636-18c57eb98441"
      },
      "source": [
        "  print(\"Shape of Train Data set:\", df.shape)\n",
        "print(\"Shape of Test Data set:\", df_test.shape)"
      ],
      "execution_count": 3,
      "outputs": [
        {
          "output_type": "stream",
          "text": [
            "Shape of Train Data set: (245725, 11)\n",
            "Shape of Test Data set: (105312, 10)\n"
          ],
          "name": "stdout"
        }
      ]
    },
    {
      "cell_type": "code",
      "metadata": {
        "colab": {
          "base_uri": "https://localhost:8080/"
        },
        "id": "vvDB2ZqKYFio",
        "outputId": "1144b44c-d87c-4dfd-b90b-a44689ada620"
      },
      "source": [
        "## Combining the train and test dataset in one file\n",
        "df['source']= 'train'\n",
        "df_test['source']= 'test'\n",
        "\n",
        "card= pd.concat([df, df_test], ignore_index=True)\n",
        "print(df.shape, df_test.shape, card.shape)"
      ],
      "execution_count": 4,
      "outputs": [
        {
          "output_type": "stream",
          "text": [
            "(245725, 12) (105312, 11) (351037, 12)\n"
          ],
          "name": "stdout"
        }
      ]
    },
    {
      "cell_type": "code",
      "metadata": {
        "colab": {
          "base_uri": "https://localhost:8080/"
        },
        "id": "WXtOll0WYOif",
        "outputId": "e8e24bd2-80b5-43f1-d104-3d7186068306"
      },
      "source": [
        "card.info()"
      ],
      "execution_count": 5,
      "outputs": [
        {
          "output_type": "stream",
          "text": [
            "<class 'pandas.core.frame.DataFrame'>\n",
            "RangeIndex: 351037 entries, 0 to 351036\n",
            "Data columns (total 12 columns):\n",
            " #   Column               Non-Null Count   Dtype  \n",
            "---  ------               --------------   -----  \n",
            " 0   ID                   351037 non-null  object \n",
            " 1   Gender               351037 non-null  object \n",
            " 2   Age                  351037 non-null  int64  \n",
            " 3   Region_Code          351037 non-null  object \n",
            " 4   Occupation           351037 non-null  object \n",
            " 5   Channel_Code         351037 non-null  object \n",
            " 6   Vintage              351037 non-null  int64  \n",
            " 7   Credit_Product       309190 non-null  object \n",
            " 8   Avg_Account_Balance  351037 non-null  int64  \n",
            " 9   Is_Active            351037 non-null  object \n",
            " 10  Is_Lead              245725 non-null  float64\n",
            " 11  source               351037 non-null  object \n",
            "dtypes: float64(1), int64(3), object(8)\n",
            "memory usage: 32.1+ MB\n"
          ],
          "name": "stdout"
        }
      ]
    },
    {
      "cell_type": "code",
      "metadata": {
        "colab": {
          "base_uri": "https://localhost:8080/",
          "height": 352
        },
        "id": "rkfi-cmTYTm8",
        "outputId": "93013f81-1a98-4575-bdc0-43247dd619a1"
      },
      "source": [
        "## Barplot\n",
        "plt.figure(figsize=(5,5))\n",
        "sns.countplot(x='Is_Lead', data= df, palette= 'husl')"
      ],
      "execution_count": 6,
      "outputs": [
        {
          "output_type": "execute_result",
          "data": {
            "text/plain": [
              "<matplotlib.axes._subplots.AxesSubplot at 0x7f41fd422d50>"
            ]
          },
          "metadata": {
            "tags": []
          },
          "execution_count": 6
        },
        {
          "output_type": "display_data",
          "data": {
            "image/png": "[encoded data removed]",
            "text/plain": [
              "<Figure size 360x360 with 1 Axes>"
            ]
          },
          "metadata": {
            "tags": [],
            "needs_background": "light"
          }
        }
      ]
    },
    {
      "cell_type": "code",
      "metadata": {
        "colab": {
          "base_uri": "https://localhost:8080/",
          "height": 393
        },
        "id": "-2zbqvpGYZ8f",
        "outputId": "70a0a15a-e45e-4eae-d308-5d9697fb650b"
      },
      "source": [
        "card.describe(include= 'all')"
      ],
      "execution_count": 7,
      "outputs": [
        {
          "output_type": "execute_result",
          "data": {
            "text/html": [
              "<div>\n",
              "<style scoped>\n",
              "    .dataframe tbody tr th:only-of-type {\n",
              "        vertical-align: middle;\n",
              "    }\n",
              "\n",
              "    .dataframe tbody tr th {\n",
              "        vertical-align: top;\n",
              "    }\n",
              "\n",
              "    .dataframe thead th {\n",
              "        text-align: right;\n",
              "    }\n",
              "</style>\n",
              "<table border=\"1\" class=\"dataframe\">\n",
              "  <thead>\n",
              "    <tr style=\"text-align: right;\">\n",
              "      <th></th>\n",
              "      <th>ID</th>\n",
              "      <th>Gender</th>\n",
              "      <th>Age</th>\n",
              "      <th>Region_Code</th>\n",
              "      <th>Occupation</th>\n",
              "      <th>Channel_Code</th>\n",
              "      <th>Vintage</th>\n",
              "      <th>Credit_Product</th>\n",
              "      <th>Avg_Account_Balance</th>\n",
              "      <th>Is_Active</th>\n",
              "      <th>Is_Lead</th>\n",
              "      <th>source</th>\n",
              "    </tr>\n",
              "  </thead>\n",
              "  <tbody>\n",
              "    <tr>\n",
              "      <th>count</th>\n",
              "      <td>351037</td>\n",
              "      <td>351037</td>\n",
              "      <td>351037.000000</td>\n",
              "      <td>351037</td>\n",
              "      <td>351037</td>\n",
              "      <td>351037</td>\n",
              "      <td>351037.000000</td>\n",
              "      <td>309190</td>\n",
              "      <td>3.510370e+05</td>\n",
              "      <td>351037</td>\n",
              "      <td>245725.000000</td>\n",
              "      <td>351037</td>\n",
              "    </tr>\n",
              "    <tr>\n",
              "      <th>unique</th>\n",
              "      <td>351037</td>\n",
              "      <td>2</td>\n",
              "      <td>NaN</td>\n",
              "      <td>35</td>\n",
              "      <td>4</td>\n",
              "      <td>4</td>\n",
              "      <td>NaN</td>\n",
              "      <td>2</td>\n",
              "      <td>NaN</td>\n",
              "      <td>2</td>\n",
              "      <td>NaN</td>\n",
              "      <td>2</td>\n",
              "    </tr>\n",
              "    <tr>\n",
              "      <th>top</th>\n",
              "      <td>YNC4FYXT</td>\n",
              "      <td>Male</td>\n",
              "      <td>NaN</td>\n",
              "      <td>RG268</td>\n",
              "      <td>Self_Employed</td>\n",
              "      <td>X1</td>\n",
              "      <td>NaN</td>\n",
              "      <td>No</td>\n",
              "      <td>NaN</td>\n",
              "      <td>No</td>\n",
              "      <td>NaN</td>\n",
              "      <td>train</td>\n",
              "    </tr>\n",
              "    <tr>\n",
              "      <th>freq</th>\n",
              "      <td>1</td>\n",
              "      <td>191902</td>\n",
              "      <td>NaN</td>\n",
              "      <td>51059</td>\n",
              "      <td>144078</td>\n",
              "      <td>148202</td>\n",
              "      <td>NaN</td>\n",
              "      <td>205965</td>\n",
              "      <td>NaN</td>\n",
              "      <td>214087</td>\n",
              "      <td>NaN</td>\n",
              "      <td>245725</td>\n",
              "    </tr>\n",
              "    <tr>\n",
              "      <th>mean</th>\n",
              "      <td>NaN</td>\n",
              "      <td>NaN</td>\n",
              "      <td>43.860716</td>\n",
              "      <td>NaN</td>\n",
              "      <td>NaN</td>\n",
              "      <td>NaN</td>\n",
              "      <td>46.924244</td>\n",
              "      <td>NaN</td>\n",
              "      <td>1.130141e+06</td>\n",
              "      <td>NaN</td>\n",
              "      <td>0.237208</td>\n",
              "      <td>NaN</td>\n",
              "    </tr>\n",
              "    <tr>\n",
              "      <th>std</th>\n",
              "      <td>NaN</td>\n",
              "      <td>NaN</td>\n",
              "      <td>14.841932</td>\n",
              "      <td>NaN</td>\n",
              "      <td>NaN</td>\n",
              "      <td>NaN</td>\n",
              "      <td>32.329303</td>\n",
              "      <td>NaN</td>\n",
              "      <td>8.569530e+05</td>\n",
              "      <td>NaN</td>\n",
              "      <td>0.425372</td>\n",
              "      <td>NaN</td>\n",
              "    </tr>\n",
              "    <tr>\n",
              "      <th>min</th>\n",
              "      <td>NaN</td>\n",
              "      <td>NaN</td>\n",
              "      <td>23.000000</td>\n",
              "      <td>NaN</td>\n",
              "      <td>NaN</td>\n",
              "      <td>NaN</td>\n",
              "      <td>7.000000</td>\n",
              "      <td>NaN</td>\n",
              "      <td>2.079000e+04</td>\n",
              "      <td>NaN</td>\n",
              "      <td>0.000000</td>\n",
              "      <td>NaN</td>\n",
              "    </tr>\n",
              "    <tr>\n",
              "      <th>25%</th>\n",
              "      <td>NaN</td>\n",
              "      <td>NaN</td>\n",
              "      <td>30.000000</td>\n",
              "      <td>NaN</td>\n",
              "      <td>NaN</td>\n",
              "      <td>NaN</td>\n",
              "      <td>20.000000</td>\n",
              "      <td>NaN</td>\n",
              "      <td>6.041850e+05</td>\n",
              "      <td>NaN</td>\n",
              "      <td>0.000000</td>\n",
              "      <td>NaN</td>\n",
              "    </tr>\n",
              "    <tr>\n",
              "      <th>50%</th>\n",
              "      <td>NaN</td>\n",
              "      <td>NaN</td>\n",
              "      <td>43.000000</td>\n",
              "      <td>NaN</td>\n",
              "      <td>NaN</td>\n",
              "      <td>NaN</td>\n",
              "      <td>32.000000</td>\n",
              "      <td>NaN</td>\n",
              "      <td>8.951620e+05</td>\n",
              "      <td>NaN</td>\n",
              "      <td>0.000000</td>\n",
              "      <td>NaN</td>\n",
              "    </tr>\n",
              "    <tr>\n",
              "      <th>75%</th>\n",
              "      <td>NaN</td>\n",
              "      <td>NaN</td>\n",
              "      <td>54.000000</td>\n",
              "      <td>NaN</td>\n",
              "      <td>NaN</td>\n",
              "      <td>NaN</td>\n",
              "      <td>73.000000</td>\n",
              "      <td>NaN</td>\n",
              "      <td>1.368152e+06</td>\n",
              "      <td>NaN</td>\n",
              "      <td>0.000000</td>\n",
              "      <td>NaN</td>\n",
              "    </tr>\n",
              "    <tr>\n",
              "      <th>max</th>\n",
              "      <td>NaN</td>\n",
              "      <td>NaN</td>\n",
              "      <td>85.000000</td>\n",
              "      <td>NaN</td>\n",
              "      <td>NaN</td>\n",
              "      <td>NaN</td>\n",
              "      <td>135.000000</td>\n",
              "      <td>NaN</td>\n",
              "      <td>1.035201e+07</td>\n",
              "      <td>NaN</td>\n",
              "      <td>1.000000</td>\n",
              "      <td>NaN</td>\n",
              "    </tr>\n",
              "  </tbody>\n",
              "</table>\n",
              "</div>"
            ],
            "text/plain": [
              "              ID  Gender            Age  ... Is_Active        Is_Lead  source\n",
              "count     351037  351037  351037.000000  ...    351037  245725.000000  351037\n",
              "unique    351037       2            NaN  ...         2            NaN       2\n",
              "top     YNC4FYXT    Male            NaN  ...        No            NaN   train\n",
              "freq           1  191902            NaN  ...    214087            NaN  245725\n",
              "mean         NaN     NaN      43.860716  ...       NaN       0.237208     NaN\n",
              "std          NaN     NaN      14.841932  ...       NaN       0.425372     NaN\n",
              "min          NaN     NaN      23.000000  ...       NaN       0.000000     NaN\n",
              "25%          NaN     NaN      30.000000  ...       NaN       0.000000     NaN\n",
              "50%          NaN     NaN      43.000000  ...       NaN       0.000000     NaN\n",
              "75%          NaN     NaN      54.000000  ...       NaN       0.000000     NaN\n",
              "max          NaN     NaN      85.000000  ...       NaN       1.000000     NaN\n",
              "\n",
              "[11 rows x 12 columns]"
            ]
          },
          "metadata": {
            "tags": []
          },
          "execution_count": 7
        }
      ]
    },
    {
      "cell_type": "markdown",
      "metadata": {
        "id": "flS0aTERYxFv"
      },
      "source": [
        "### Missing Value Treatment"
      ]
    },
    {
      "cell_type": "code",
      "metadata": {
        "colab": {
          "base_uri": "https://localhost:8080/"
        },
        "id": "FQ7YdEXUYdRW",
        "outputId": "cef84fbd-3ec7-484a-b5e8-8587f06c696b"
      },
      "source": [
        "card.isnull().sum()"
      ],
      "execution_count": 8,
      "outputs": [
        {
          "output_type": "execute_result",
          "data": {
            "text/plain": [
              "ID                          0\n",
              "Gender                      0\n",
              "Age                         0\n",
              "Region_Code                 0\n",
              "Occupation                  0\n",
              "Channel_Code                0\n",
              "Vintage                     0\n",
              "Credit_Product          41847\n",
              "Avg_Account_Balance         0\n",
              "Is_Active                   0\n",
              "Is_Lead                105312\n",
              "source                      0\n",
              "dtype: int64"
            ]
          },
          "metadata": {
            "tags": []
          },
          "execution_count": 8
        }
      ]
    },
    {
      "cell_type": "code",
      "metadata": {
        "colab": {
          "base_uri": "https://localhost:8080/"
        },
        "id": "m2EKoq3NpFBd",
        "outputId": "eda9d500-2807-4818-95df-4cefa0de55e8"
      },
      "source": [
        "## checking the unique value in Credit Product\n",
        "card['Credit_Product'].unique()"
      ],
      "execution_count": 9,
      "outputs": [
        {
          "output_type": "execute_result",
          "data": {
            "text/plain": [
              "array(['No', nan, 'Yes'], dtype=object)"
            ]
          },
          "metadata": {
            "tags": []
          },
          "execution_count": 9
        }
      ]
    },
    {
      "cell_type": "code",
      "metadata": {
        "id": "gdKGaIwSpE18"
      },
      "source": [
        "## Filling null values with 'No info'\n",
        "card['Credit_Product'].fillna('No info', inplace= True)"
      ],
      "execution_count": 10,
      "outputs": []
    },
    {
      "cell_type": "code",
      "metadata": {
        "colab": {
          "base_uri": "https://localhost:8080/"
        },
        "id": "MDRppWKZeKWT",
        "outputId": "d5b5fe1e-31df-440a-ef4a-e9d287f3a721"
      },
      "source": [
        "## Checking for any more missing values\n",
        "card.isnull().sum()"
      ],
      "execution_count": 11,
      "outputs": [
        {
          "output_type": "execute_result",
          "data": {
            "text/plain": [
              "ID                          0\n",
              "Gender                      0\n",
              "Age                         0\n",
              "Region_Code                 0\n",
              "Occupation                  0\n",
              "Channel_Code                0\n",
              "Vintage                     0\n",
              "Credit_Product              0\n",
              "Avg_Account_Balance         0\n",
              "Is_Active                   0\n",
              "Is_Lead                105312\n",
              "source                      0\n",
              "dtype: int64"
            ]
          },
          "metadata": {
            "tags": []
          },
          "execution_count": 11
        }
      ]
    },
    {
      "cell_type": "code",
      "metadata": {
        "colab": {
          "base_uri": "https://localhost:8080/"
        },
        "id": "dvhJ7l-OeMbv",
        "outputId": "5ddfcfbe-0abf-4ce9-fcf3-81511e7e08e8"
      },
      "source": [
        "## Checking the duplicate values\n",
        "card.duplicated().any()"
      ],
      "execution_count": 12,
      "outputs": [
        {
          "output_type": "execute_result",
          "data": {
            "text/plain": [
              "False"
            ]
          },
          "metadata": {
            "tags": []
          },
          "execution_count": 12
        }
      ]
    },
    {
      "cell_type": "markdown",
      "metadata": {
        "id": "pGypT1cFeuke"
      },
      "source": [
        "## Checking for outliers"
      ]
    },
    {
      "cell_type": "code",
      "metadata": {
        "colab": {
          "base_uri": "https://localhost:8080/",
          "height": 222
        },
        "id": "w-sBydLEim92",
        "outputId": "f55a8fb0-7f70-465a-ce11-6af5a4f2c260"
      },
      "source": [
        "## Appling box plot by comparing amount and class Columns\n",
        "plt.figure(figsize=(20,3))\n",
        "plt.subplot(1,3,1)\n",
        "sns.boxplot(x= 'Age',  data= card, palette= 'YlGn_r')\n",
        "plt.subplot(1,3,2)\n",
        "sns.boxplot(x= 'Vintage',  data= card, palette= 'YlGn_r')\n",
        "plt.subplot(1,3,3)\n",
        "sns.boxplot(x= 'Avg_Account_Balance',  data= card, palette= 'YlGn_r')\n",
        "plt.show()"
      ],
      "execution_count": 13,
      "outputs": [
        {
          "output_type": "display_data",
          "data": {
            "image/png": "[encoded data removed]",
            "text/plain": [
              "<Figure size 1440x216 with 3 Axes>"
            ]
          },
          "metadata": {
            "tags": [],
            "needs_background": "light"
          }
        }
      ]
    },
    {
      "cell_type": "markdown",
      "metadata": {
        "id": "6znGDh4Kr4Wn"
      },
      "source": [
        "## EDA"
      ]
    },
    {
      "cell_type": "markdown",
      "metadata": {
        "id": "RhMeQdBQskEH"
      },
      "source": [
        "### 1. Average Account Balance"
      ]
    },
    {
      "cell_type": "code",
      "metadata": {
        "colab": {
          "base_uri": "https://localhost:8080/",
          "height": 308
        },
        "id": "JXScYWh1xebq",
        "outputId": "0930f41d-f5d7-4cb4-d4d2-1d4a65fa7e28"
      },
      "source": [
        "sns.distplot(card['Avg_Account_Balance'], rug=True, hist= True, kde=True)"
      ],
      "execution_count": 14,
      "outputs": [
        {
          "output_type": "execute_result",
          "data": {
            "text/plain": [
              "<matplotlib.axes._subplots.AxesSubplot at 0x7f41fc420750>"
            ]
          },
          "metadata": {
            "tags": []
          },
          "execution_count": 14
        },
        {
          "output_type": "display_data",
          "data": {
            "image/png": "[encoded data removed]",
            "text/plain": [
              "<Figure size 432x288 with 1 Axes>"
            ]
          },
          "metadata": {
            "tags": [],
            "needs_background": "light"
          }
        }
      ]
    },
    {
      "cell_type": "code",
      "metadata": {
        "id": "4E12R0HyzAMz"
      },
      "source": [
        "## log_transformation \n",
        "card['Avg_Account_Balance'] = np.log(card['Avg_Account_Balance'])"
      ],
      "execution_count": 15,
      "outputs": []
    },
    {
      "cell_type": "code",
      "metadata": {
        "colab": {
          "base_uri": "https://localhost:8080/",
          "height": 297
        },
        "id": "EiseLFy6zQkr",
        "outputId": "c72ef5d7-a7e4-4441-df0f-749fca43a370"
      },
      "source": [
        "sns.distplot(card['Avg_Account_Balance'], rug=True, hist= True, kde=True)"
      ],
      "execution_count": 16,
      "outputs": [
        {
          "output_type": "execute_result",
          "data": {
            "text/plain": [
              "<matplotlib.axes._subplots.AxesSubplot at 0x7f41e64988d0>"
            ]
          },
          "metadata": {
            "tags": []
          },
          "execution_count": 16
        },
        {
          "output_type": "display_data",
          "data": {
            "image/png": "[encoded data removed]",
            "text/plain": [
              "<Figure size 432x288 with 1 Axes>"
            ]
          },
          "metadata": {
            "tags": [],
            "needs_background": "light"
          }
        }
      ]
    },
    {
      "cell_type": "code",
      "metadata": {
        "colab": {
          "base_uri": "https://localhost:8080/",
          "height": 401
        },
        "id": "Xbq71KW75RZx",
        "outputId": "9f4122e6-5106-4561-d559-36d70f2f13c0"
      },
      "source": [
        "sns.catplot(x='Is_Lead', y='Avg_Account_Balance', kind='boxen', data=card)"
      ],
      "execution_count": 17,
      "outputs": [
        {
          "output_type": "execute_result",
          "data": {
            "text/plain": [
              "<seaborn.axisgrid.FacetGrid at 0x7f41dadfb9d0>"
            ]
          },
          "metadata": {
            "tags": []
          },
          "execution_count": 17
        },
        {
          "output_type": "display_data",
          "data": {
            "image/png": "[encoded data removed]",
            "text/plain": [
              "<Figure size 360x360 with 1 Axes>"
            ]
          },
          "metadata": {
            "tags": [],
            "needs_background": "light"
          }
        }
      ]
    },
    {
      "cell_type": "markdown",
      "metadata": {
        "id": "AOMEn08pst34"
      },
      "source": [
        "### 2. Unique Values of the featues"
      ]
    },
    {
      "cell_type": "code",
      "metadata": {
        "colab": {
          "base_uri": "https://localhost:8080/"
        },
        "id": "RV4eEBbw_XZs",
        "outputId": "8bcc8d41-687b-4659-8852-d999bf22f205"
      },
      "source": [
        "card.nunique()"
      ],
      "execution_count": 18,
      "outputs": [
        {
          "output_type": "execute_result",
          "data": {
            "text/plain": [
              "ID                     351037\n",
              "Gender                      2\n",
              "Age                        63\n",
              "Region_Code                35\n",
              "Occupation                  4\n",
              "Channel_Code                4\n",
              "Vintage                    66\n",
              "Credit_Product              3\n",
              "Avg_Account_Balance    162137\n",
              "Is_Active                   2\n",
              "Is_Lead                     2\n",
              "source                      2\n",
              "dtype: int64"
            ]
          },
          "metadata": {
            "tags": []
          },
          "execution_count": 18
        }
      ]
    },
    {
      "cell_type": "markdown",
      "metadata": {
        "id": "efT0OnTitOQC"
      },
      "source": [
        "### 3. Is_Lead"
      ]
    },
    {
      "cell_type": "code",
      "metadata": {
        "colab": {
          "base_uri": "https://localhost:8080/"
        },
        "id": "A0r0JkLBs_MN",
        "outputId": "d6534c37-988a-4afa-ac43-08096d0917d0"
      },
      "source": [
        "card['Is_Lead'].value_counts(normalize= True)"
      ],
      "execution_count": 19,
      "outputs": [
        {
          "output_type": "execute_result",
          "data": {
            "text/plain": [
              "0.0    0.762792\n",
              "1.0    0.237208\n",
              "Name: Is_Lead, dtype: float64"
            ]
          },
          "metadata": {
            "tags": []
          },
          "execution_count": 19
        }
      ]
    },
    {
      "cell_type": "code",
      "metadata": {
        "colab": {
          "base_uri": "https://localhost:8080/",
          "height": 297
        },
        "id": "cN6La62ktuIR",
        "outputId": "0fdfd10b-aab7-4dd4-cfbf-2fcb727a4cf7"
      },
      "source": [
        "sns.set_style(\"whitegrid\")\n",
        "sns.countplot(x= 'Is_Lead', data= card)"
      ],
      "execution_count": 20,
      "outputs": [
        {
          "output_type": "execute_result",
          "data": {
            "text/plain": [
              "<matplotlib.axes._subplots.AxesSubplot at 0x7f41d979e190>"
            ]
          },
          "metadata": {
            "tags": []
          },
          "execution_count": 20
        },
        {
          "output_type": "display_data",
          "data": {
            "image/png": "[encoded data removed]",
            "text/plain": [
              "<Figure size 432x288 with 1 Axes>"
            ]
          },
          "metadata": {
            "tags": []
          }
        }
      ]
    },
    {
      "cell_type": "markdown",
      "metadata": {
        "id": "qTw4OXBYt8ey"
      },
      "source": [
        "There are certain class imbalance inthe data set"
      ]
    },
    {
      "cell_type": "markdown",
      "metadata": {
        "id": "GwabYLe6vXVS"
      },
      "source": [
        "### 4. Gender"
      ]
    },
    {
      "cell_type": "code",
      "metadata": {
        "colab": {
          "base_uri": "https://localhost:8080/",
          "height": 299
        },
        "id": "QuTcLYkDubyt",
        "outputId": "cdc053e3-041d-4b99-cb5b-e9b49c2a3081"
      },
      "source": [
        "sns.set_style(\"whitegrid\")\n",
        "sns.countplot(x= 'Gender', data= card)"
      ],
      "execution_count": 21,
      "outputs": [
        {
          "output_type": "execute_result",
          "data": {
            "text/plain": [
              "<matplotlib.axes._subplots.AxesSubplot at 0x7f41dad85d50>"
            ]
          },
          "metadata": {
            "tags": []
          },
          "execution_count": 21
        },
        {
          "output_type": "display_data",
          "data": {
            "image/png": "[encoded data removed]",
            "text/plain": [
              "<Figure size 432x288 with 1 Axes>"
            ]
          },
          "metadata": {
            "tags": []
          }
        }
      ]
    },
    {
      "cell_type": "code",
      "metadata": {
        "colab": {
          "base_uri": "https://localhost:8080/",
          "height": 296
        },
        "id": "WJHff16nwDGV",
        "outputId": "688d7d6b-96e0-48bd-94cf-4d1fce87bb0c"
      },
      "source": [
        "sns.set_style(\"whitegrid\")\n",
        "sns.countplot(x= 'Gender',hue= 'Is_Lead', data= card)"
      ],
      "execution_count": 22,
      "outputs": [
        {
          "output_type": "execute_result",
          "data": {
            "text/plain": [
              "<matplotlib.axes._subplots.AxesSubplot at 0x7f41daca53d0>"
            ]
          },
          "metadata": {
            "tags": []
          },
          "execution_count": 22
        },
        {
          "output_type": "display_data",
          "data": {
            "image/png": "[encoded data removed]",
            "text/plain": [
              "<Figure size 432x288 with 1 Axes>"
            ]
          },
          "metadata": {
            "tags": []
          }
        }
      ]
    },
    {
      "cell_type": "markdown",
      "metadata": {
        "id": "eNhrGTYLx9zj"
      },
      "source": [
        "### 5. Age"
      ]
    },
    {
      "cell_type": "code",
      "metadata": {
        "colab": {
          "base_uri": "https://localhost:8080/",
          "height": 401
        },
        "id": "06kz65ZXwMln",
        "outputId": "110c70f6-90c4-4934-846c-dd6746152c8f"
      },
      "source": [
        "sns.catplot(x='Is_Lead', y='Age', kind='boxen', data=card)"
      ],
      "execution_count": 23,
      "outputs": [
        {
          "output_type": "execute_result",
          "data": {
            "text/plain": [
              "<seaborn.axisgrid.FacetGrid at 0x7f41dac7e190>"
            ]
          },
          "metadata": {
            "tags": []
          },
          "execution_count": 23
        },
        {
          "output_type": "display_data",
          "data": {
            "image/png": "[encoded data removed]",
            "text/plain": [
              "<Figure size 360x360 with 1 Axes>"
            ]
          },
          "metadata": {
            "tags": []
          }
        }
      ]
    },
    {
      "cell_type": "code",
      "metadata": {
        "colab": {
          "base_uri": "https://localhost:8080/",
          "height": 400
        },
        "id": "-PeZ8OXByJLc",
        "outputId": "2b043149-7f0e-4b10-c6dc-16620e8f94fb"
      },
      "source": [
        "sns.catplot(x='Gender', y='Age', kind='boxen', data=card)"
      ],
      "execution_count": 24,
      "outputs": [
        {
          "output_type": "execute_result",
          "data": {
            "text/plain": [
              "<seaborn.axisgrid.FacetGrid at 0x7f41dabfee90>"
            ]
          },
          "metadata": {
            "tags": []
          },
          "execution_count": 24
        },
        {
          "output_type": "display_data",
          "data": {
            "image/png": "[encoded data removed]",
            "text/plain": [
              "<Figure size 360x360 with 1 Axes>"
            ]
          },
          "metadata": {
            "tags": []
          }
        }
      ]
    },
    {
      "cell_type": "code",
      "metadata": {
        "colab": {
          "base_uri": "https://localhost:8080/",
          "height": 400
        },
        "id": "je3iUMLGyX3g",
        "outputId": "39b2487b-e7bc-41ec-e0b5-d736bed3782b"
      },
      "source": [
        "sns.catplot(x='Gender', y='Age', hue='Is_Lead', kind='box', data=card)"
      ],
      "execution_count": 25,
      "outputs": [
        {
          "output_type": "execute_result",
          "data": {
            "text/plain": [
              "<seaborn.axisgrid.FacetGrid at 0x7f41dad42950>"
            ]
          },
          "metadata": {
            "tags": []
          },
          "execution_count": 25
        },
        {
          "output_type": "display_data",
          "data": {
            "image/png": "[encoded data removed]",
            "text/plain": [
              "<Figure size 411.875x360 with 1 Axes>"
            ]
          },
          "metadata": {
            "tags": []
          }
        }
      ]
    },
    {
      "cell_type": "markdown",
      "metadata": {
        "id": "MwIuhLYGy05F"
      },
      "source": [
        "### 6. Region Code"
      ]
    },
    {
      "cell_type": "code",
      "metadata": {
        "colab": {
          "base_uri": "https://localhost:8080/",
          "height": 342
        },
        "id": "39pswazXzeEQ",
        "outputId": "72189412-ff03-43cd-d7b1-be86ea8b0d61"
      },
      "source": [
        "plt.subplots(figsize=(30, 8))\n",
        "sns.set_style(\"whitegrid\")\n",
        "sns.countplot(x='Region_Code', data=card)"
      ],
      "execution_count": 26,
      "outputs": [
        {
          "output_type": "execute_result",
          "data": {
            "text/plain": [
              "<matplotlib.axes._subplots.AxesSubplot at 0x7f41dab1af90>"
            ]
          },
          "metadata": {
            "tags": []
          },
          "execution_count": 26
        },
        {
          "output_type": "display_data",
          "data": {
            "image/png": "[encoded data removed]",
            "text/plain": [
              "<Figure size 2160x576 with 1 Axes>"
            ]
          },
          "metadata": {
            "tags": []
          }
        }
      ]
    },
    {
      "cell_type": "code",
      "metadata": {
        "colab": {
          "base_uri": "https://localhost:8080/",
          "height": 342
        },
        "id": "p6ioL1LwyfzU",
        "outputId": "a1f2a22d-274b-4abd-98b2-9ccdb07bec84"
      },
      "source": [
        "plt.subplots(figsize=(30, 8))\n",
        "sns.set_style(\"whitegrid\")\n",
        "sns.countplot(x='Region_Code', hue='Is_Lead', data=card)"
      ],
      "execution_count": 27,
      "outputs": [
        {
          "output_type": "execute_result",
          "data": {
            "text/plain": [
              "<matplotlib.axes._subplots.AxesSubplot at 0x7f41dab5f390>"
            ]
          },
          "metadata": {
            "tags": []
          },
          "execution_count": 27
        },
        {
          "output_type": "display_data",
          "data": {
            "image/png": "[encoded data removed]",
            "text/plain": [
              "<Figure size 2160x576 with 1 Axes>"
            ]
          },
          "metadata": {
            "tags": []
          }
        }
      ]
    },
    {
      "cell_type": "markdown",
      "metadata": {
        "id": "Bw8cZ1SS0msu"
      },
      "source": [
        "### 7. Occupation"
      ]
    },
    {
      "cell_type": "code",
      "metadata": {
        "colab": {
          "base_uri": "https://localhost:8080/",
          "height": 297
        },
        "id": "ov3FybWHzEUw",
        "outputId": "43c116ff-986b-4fb4-b438-616a78a7e84d"
      },
      "source": [
        "sns.set_style(\"whitegrid\")\n",
        "sns.countplot(x='Occupation', hue='Is_Lead', data=card)"
      ],
      "execution_count": 28,
      "outputs": [
        {
          "output_type": "execute_result",
          "data": {
            "text/plain": [
              "<matplotlib.axes._subplots.AxesSubplot at 0x7f41da9ff8d0>"
            ]
          },
          "metadata": {
            "tags": []
          },
          "execution_count": 28
        },
        {
          "output_type": "display_data",
          "data": {
            "image/png": "[encoded data removed]",
            "text/plain": [
              "<Figure size 432x288 with 1 Axes>"
            ]
          },
          "metadata": {
            "tags": []
          }
        }
      ]
    },
    {
      "cell_type": "code",
      "metadata": {
        "colab": {
          "base_uri": "https://localhost:8080/",
          "height": 297
        },
        "id": "yF_7ipqT1SCX",
        "outputId": "7b2f7d30-0826-4207-d227-969bd54400e0"
      },
      "source": [
        "v=card.groupby('Occupation').Is_Lead.value_counts().unstack()\n",
        "v['Ratio'] = v[1]/(v[0] + v[1])\n",
        "v.reset_index(inplace=True)\n",
        "sns.set_style(\"whitegrid\")\n",
        "sns.barplot(x='Occupation', y='Ratio', data=v.sort_values(by=['Ratio'], ascending=False))"
      ],
      "execution_count": 29,
      "outputs": [
        {
          "output_type": "execute_result",
          "data": {
            "text/plain": [
              "<matplotlib.axes._subplots.AxesSubplot at 0x7f41da90ebd0>"
            ]
          },
          "metadata": {
            "tags": []
          },
          "execution_count": 29
        },
        {
          "output_type": "display_data",
          "data": {
            "image/png": "[encoded data removed]",
            "text/plain": [
              "<Figure size 432x288 with 1 Axes>"
            ]
          },
          "metadata": {
            "tags": []
          }
        }
      ]
    },
    {
      "cell_type": "markdown",
      "metadata": {
        "id": "Cj-K28un29GR"
      },
      "source": [
        "### 8. Channel Code"
      ]
    },
    {
      "cell_type": "code",
      "metadata": {
        "colab": {
          "base_uri": "https://localhost:8080/",
          "height": 297
        },
        "id": "3AMcG5Yy1da1",
        "outputId": "865cea39-b25b-493a-b6b2-e4a03c729853"
      },
      "source": [
        "sns.set_style(\"whitegrid\")\n",
        "sns.countplot(x='Channel_Code', hue='Is_Lead', data=card)"
      ],
      "execution_count": 30,
      "outputs": [
        {
          "output_type": "execute_result",
          "data": {
            "text/plain": [
              "<matplotlib.axes._subplots.AxesSubplot at 0x7f41da79ea50>"
            ]
          },
          "metadata": {
            "tags": []
          },
          "execution_count": 30
        },
        {
          "output_type": "display_data",
          "data": {
            "image/png": "[encoded data removed]",
            "text/plain": [
              "<Figure size 432x288 with 1 Axes>"
            ]
          },
          "metadata": {
            "tags": []
          }
        }
      ]
    },
    {
      "cell_type": "code",
      "metadata": {
        "colab": {
          "base_uri": "https://localhost:8080/",
          "height": 297
        },
        "id": "33xToLPJ3Mqt",
        "outputId": "80232b43-0a94-40d5-cdd9-e17d20bca4de"
      },
      "source": [
        "sns.set_style(\"whitegrid\")\n",
        "sns.countplot(x='Channel_Code', data=card)"
      ],
      "execution_count": 31,
      "outputs": [
        {
          "output_type": "execute_result",
          "data": {
            "text/plain": [
              "<matplotlib.axes._subplots.AxesSubplot at 0x7f41da785310>"
            ]
          },
          "metadata": {
            "tags": []
          },
          "execution_count": 31
        },
        {
          "output_type": "display_data",
          "data": {
            "image/png": "[encoded data removed]",
            "text/plain": [
              "<Figure size 432x288 with 1 Axes>"
            ]
          },
          "metadata": {
            "tags": []
          }
        }
      ]
    },
    {
      "cell_type": "markdown",
      "metadata": {
        "id": "aGw5xN2k4Ayy"
      },
      "source": [
        "### 9. Vintage"
      ]
    },
    {
      "cell_type": "code",
      "metadata": {
        "colab": {
          "base_uri": "https://localhost:8080/",
          "height": 401
        },
        "id": "VpBmMumm3X7b",
        "outputId": "e3638467-cc88-4204-a5bd-c7c61d9027c1"
      },
      "source": [
        "sns.catplot(x='Is_Lead', y='Vintage', kind='boxen', data=card)"
      ],
      "execution_count": 32,
      "outputs": [
        {
          "output_type": "execute_result",
          "data": {
            "text/plain": [
              "<seaborn.axisgrid.FacetGrid at 0x7f41da79e450>"
            ]
          },
          "metadata": {
            "tags": []
          },
          "execution_count": 32
        },
        {
          "output_type": "display_data",
          "data": {
            "image/png": "[encoded data removed]",
            "text/plain": [
              "<Figure size 360x360 with 1 Axes>"
            ]
          },
          "metadata": {
            "tags": []
          }
        }
      ]
    },
    {
      "cell_type": "markdown",
      "metadata": {
        "id": "BEBtLtg14Yzk"
      },
      "source": [
        "### 10. Credit Product"
      ]
    },
    {
      "cell_type": "code",
      "metadata": {
        "colab": {
          "base_uri": "https://localhost:8080/",
          "height": 301
        },
        "id": "xzdLOjcD4Q7T",
        "outputId": "b93c885b-f018-40a7-e33c-3e27a677fa20"
      },
      "source": [
        "sns.set_style(\"whitegrid\")\n",
        "sns.countplot(x='Credit_Product', hue='Is_Lead', data=card)"
      ],
      "execution_count": 33,
      "outputs": [
        {
          "output_type": "execute_result",
          "data": {
            "text/plain": [
              "<matplotlib.axes._subplots.AxesSubplot at 0x7f41da65f9d0>"
            ]
          },
          "metadata": {
            "tags": []
          },
          "execution_count": 33
        },
        {
          "output_type": "display_data",
          "data": {
            "image/png": "[encoded data removed]",
            "text/plain": [
              "<Figure size 432x288 with 1 Axes>"
            ]
          },
          "metadata": {
            "tags": []
          }
        }
      ]
    },
    {
      "cell_type": "code",
      "metadata": {
        "colab": {
          "base_uri": "https://localhost:8080/",
          "height": 297
        },
        "id": "urRdPNqj4g5I",
        "outputId": "9ba0d921-06bb-47f8-bbe4-e984e7f141f1"
      },
      "source": [
        "sns.countplot(x='Credit_Product', data=card)"
      ],
      "execution_count": 34,
      "outputs": [
        {
          "output_type": "execute_result",
          "data": {
            "text/plain": [
              "<matplotlib.axes._subplots.AxesSubplot at 0x7f41d8fb2590>"
            ]
          },
          "metadata": {
            "tags": []
          },
          "execution_count": 34
        },
        {
          "output_type": "display_data",
          "data": {
            "image/png": "[encoded data removed]",
            "text/plain": [
              "<Figure size 432x288 with 1 Axes>"
            ]
          },
          "metadata": {
            "tags": []
          }
        }
      ]
    },
    {
      "cell_type": "markdown",
      "metadata": {
        "id": "uqsfkfLB4-y6"
      },
      "source": [
        "### 11. Is Active"
      ]
    },
    {
      "cell_type": "code",
      "metadata": {
        "colab": {
          "base_uri": "https://localhost:8080/",
          "height": 297
        },
        "id": "NcxX-s9i4uzJ",
        "outputId": "e2164af7-7099-46e4-b2de-03aabe54e892"
      },
      "source": [
        "sns.set_style(\"whitegrid\")\n",
        "sns.countplot(x='Is_Active', hue='Is_Lead', data=card)"
      ],
      "execution_count": 35,
      "outputs": [
        {
          "output_type": "execute_result",
          "data": {
            "text/plain": [
              "<matplotlib.axes._subplots.AxesSubplot at 0x7f41da5db290>"
            ]
          },
          "metadata": {
            "tags": []
          },
          "execution_count": 35
        },
        {
          "output_type": "display_data",
          "data": {
            "image/png": "[encoded data removed]",
            "text/plain": [
              "<Figure size 432x288 with 1 Axes>"
            ]
          },
          "metadata": {
            "tags": []
          }
        }
      ]
    },
    {
      "cell_type": "code",
      "metadata": {
        "colab": {
          "base_uri": "https://localhost:8080/",
          "height": 297
        },
        "id": "lrZ68MRF5fx2",
        "outputId": "e4e0b9ee-e400-4a7d-f385-abdad661aa01"
      },
      "source": [
        "sns.set_style(\"whitegrid\")\n",
        "sns.countplot(x='Is_Active', data=card)"
      ],
      "execution_count": 36,
      "outputs": [
        {
          "output_type": "execute_result",
          "data": {
            "text/plain": [
              "<matplotlib.axes._subplots.AxesSubplot at 0x7f41da570510>"
            ]
          },
          "metadata": {
            "tags": []
          },
          "execution_count": 36
        },
        {
          "output_type": "display_data",
          "data": {
            "image/png": "[encoded data removed]",
            "text/plain": [
              "<Figure size 432x288 with 1 Axes>"
            ]
          },
          "metadata": {
            "tags": []
          }
        }
      ]
    },
    {
      "cell_type": "markdown",
      "metadata": {
        "id": "hjqQEtsQ827J"
      },
      "source": [
        "### Numerical Feature"
      ]
    },
    {
      "cell_type": "code",
      "metadata": {
        "colab": {
          "base_uri": "https://localhost:8080/",
          "height": 567
        },
        "id": "s8RbZHH-5osy",
        "outputId": "fc69149b-fb97-44be-8427-6848d443abe4"
      },
      "source": [
        "num_var=['Age', 'Vintage', 'Avg_Account_Balance', 'Is_Lead']\n",
        "sns.pairplot(card[num_var], hue='Is_Lead')"
      ],
      "execution_count": 37,
      "outputs": [
        {
          "output_type": "execute_result",
          "data": {
            "text/plain": [
              "<seaborn.axisgrid.PairGrid at 0x7f41da52f850>"
            ]
          },
          "metadata": {
            "tags": []
          },
          "execution_count": 37
        },
        {
          "output_type": "display_data",
          "data": {
            "image/png": "[encoded data removed]",
            "text/plain": [
              "<Figure size 591.875x540 with 12 Axes>"
            ]
          },
          "metadata": {
            "tags": []
          }
        }
      ]
    },
    {
      "cell_type": "code",
      "metadata": {
        "colab": {
          "base_uri": "https://localhost:8080/",
          "height": 380
        },
        "id": "2UDitKgu7-sz",
        "outputId": "ef527ed8-4c06-42e6-9791-126d1e6e0b51"
      },
      "source": [
        "sns.heatmap(card.corr(), annot = True, cmap=\"YlGnBu\")\n",
        "plt.title('Correlation matrix of all numerical variables')\n",
        "plt.show()"
      ],
      "execution_count": 38,
      "outputs": [
        {
          "output_type": "display_data",
          "data": {
            "image/png": "[encoded data removed]",
            "text/plain": [
              "<Figure size 432x288 with 2 Axes>"
            ]
          },
          "metadata": {
            "tags": []
          }
        }
      ]
    },
    {
      "cell_type": "markdown",
      "metadata": {
        "id": "tvXJW6QY9aNw"
      },
      "source": [
        "## Feature Encoding"
      ]
    },
    {
      "cell_type": "code",
      "metadata": {
        "id": "JCPx3QeE9PK7"
      },
      "source": [
        "#Import library:\n",
        "from sklearn.preprocessing import LabelEncoder\n",
        "le = LabelEncoder()\n",
        "#New variable for outlet\n",
        "card['Is_Lead'] = le.fit_transform(card['Is_Lead'])\n",
        "var_mod = ['Gender','Occupation','Channel_Code','Credit_Product','Is_Active','Is_Lead','Region_Code']\n",
        "le = LabelEncoder()\n",
        "for i in var_mod:\n",
        "    card[i] = le.fit_transform(card[i])\n",
        "\n",
        "#One Hot Coding:\n",
        "card = pd.get_dummies(card, columns=['Gender','Occupation','Channel_Code','Credit_Product','Is_Active','Region_Code'], drop_first= True)"
      ],
      "execution_count": 39,
      "outputs": []
    },
    {
      "cell_type": "code",
      "metadata": {
        "colab": {
          "base_uri": "https://localhost:8080/",
          "height": 215
        },
        "id": "zOb0KJm89xZP",
        "outputId": "a1d47884-a135-4d55-c219-2cc13943a4a5"
      },
      "source": [
        "card.head()"
      ],
      "execution_count": 40,
      "outputs": [
        {
          "output_type": "execute_result",
          "data": {
            "text/html": [
              "<div>\n",
              "<style scoped>\n",
              "    .dataframe tbody tr th:only-of-type {\n",
              "        vertical-align: middle;\n",
              "    }\n",
              "\n",
              "    .dataframe tbody tr th {\n",
              "        vertical-align: top;\n",
              "    }\n",
              "\n",
              "    .dataframe thead th {\n",
              "        text-align: right;\n",
              "    }\n",
              "</style>\n",
              "<table border=\"1\" class=\"dataframe\">\n",
              "  <thead>\n",
              "    <tr style=\"text-align: right;\">\n",
              "      <th></th>\n",
              "      <th>ID</th>\n",
              "      <th>Age</th>\n",
              "      <th>Vintage</th>\n",
              "      <th>Avg_Account_Balance</th>\n",
              "      <th>Is_Lead</th>\n",
              "      <th>source</th>\n",
              "      <th>Gender_1</th>\n",
              "      <th>Occupation_1</th>\n",
              "      <th>Occupation_2</th>\n",
              "      <th>Occupation_3</th>\n",
              "      <th>Channel_Code_1</th>\n",
              "      <th>Channel_Code_2</th>\n",
              "      <th>Channel_Code_3</th>\n",
              "      <th>Credit_Product_1</th>\n",
              "      <th>Credit_Product_2</th>\n",
              "      <th>Is_Active_1</th>\n",
              "      <th>Region_Code_1</th>\n",
              "      <th>Region_Code_2</th>\n",
              "      <th>Region_Code_3</th>\n",
              "      <th>Region_Code_4</th>\n",
              "      <th>Region_Code_5</th>\n",
              "      <th>Region_Code_6</th>\n",
              "      <th>Region_Code_7</th>\n",
              "      <th>Region_Code_8</th>\n",
              "      <th>Region_Code_9</th>\n",
              "      <th>Region_Code_10</th>\n",
              "      <th>Region_Code_11</th>\n",
              "      <th>Region_Code_12</th>\n",
              "      <th>Region_Code_13</th>\n",
              "      <th>Region_Code_14</th>\n",
              "      <th>Region_Code_15</th>\n",
              "      <th>Region_Code_16</th>\n",
              "      <th>Region_Code_17</th>\n",
              "      <th>Region_Code_18</th>\n",
              "      <th>Region_Code_19</th>\n",
              "      <th>Region_Code_20</th>\n",
              "      <th>Region_Code_21</th>\n",
              "      <th>Region_Code_22</th>\n",
              "      <th>Region_Code_23</th>\n",
              "      <th>Region_Code_24</th>\n",
              "      <th>Region_Code_25</th>\n",
              "      <th>Region_Code_26</th>\n",
              "      <th>Region_Code_27</th>\n",
              "      <th>Region_Code_28</th>\n",
              "      <th>Region_Code_29</th>\n",
              "      <th>Region_Code_30</th>\n",
              "      <th>Region_Code_31</th>\n",
              "      <th>Region_Code_32</th>\n",
              "      <th>Region_Code_33</th>\n",
              "      <th>Region_Code_34</th>\n",
              "    </tr>\n",
              "  </thead>\n",
              "  <tbody>\n",
              "    <tr>\n",
              "      <th>0</th>\n",
              "      <td>NNVBBKZB</td>\n",
              "      <td>73</td>\n",
              "      <td>43</td>\n",
              "      <td>13.860193</td>\n",
              "      <td>0</td>\n",
              "      <td>train</td>\n",
              "      <td>0</td>\n",
              "      <td>1</td>\n",
              "      <td>0</td>\n",
              "      <td>0</td>\n",
              "      <td>0</td>\n",
              "      <td>1</td>\n",
              "      <td>0</td>\n",
              "      <td>0</td>\n",
              "      <td>0</td>\n",
              "      <td>0</td>\n",
              "      <td>0</td>\n",
              "      <td>0</td>\n",
              "      <td>0</td>\n",
              "      <td>0</td>\n",
              "      <td>0</td>\n",
              "      <td>0</td>\n",
              "      <td>0</td>\n",
              "      <td>0</td>\n",
              "      <td>0</td>\n",
              "      <td>0</td>\n",
              "      <td>0</td>\n",
              "      <td>0</td>\n",
              "      <td>0</td>\n",
              "      <td>0</td>\n",
              "      <td>0</td>\n",
              "      <td>0</td>\n",
              "      <td>0</td>\n",
              "      <td>1</td>\n",
              "      <td>0</td>\n",
              "      <td>0</td>\n",
              "      <td>0</td>\n",
              "      <td>0</td>\n",
              "      <td>0</td>\n",
              "      <td>0</td>\n",
              "      <td>0</td>\n",
              "      <td>0</td>\n",
              "      <td>0</td>\n",
              "      <td>0</td>\n",
              "      <td>0</td>\n",
              "      <td>0</td>\n",
              "      <td>0</td>\n",
              "      <td>0</td>\n",
              "      <td>0</td>\n",
              "      <td>0</td>\n",
              "    </tr>\n",
              "    <tr>\n",
              "      <th>1</th>\n",
              "      <td>IDD62UNG</td>\n",
              "      <td>30</td>\n",
              "      <td>32</td>\n",
              "      <td>13.274205</td>\n",
              "      <td>0</td>\n",
              "      <td>train</td>\n",
              "      <td>0</td>\n",
              "      <td>0</td>\n",
              "      <td>1</td>\n",
              "      <td>0</td>\n",
              "      <td>0</td>\n",
              "      <td>0</td>\n",
              "      <td>0</td>\n",
              "      <td>0</td>\n",
              "      <td>0</td>\n",
              "      <td>0</td>\n",
              "      <td>0</td>\n",
              "      <td>0</td>\n",
              "      <td>0</td>\n",
              "      <td>0</td>\n",
              "      <td>0</td>\n",
              "      <td>0</td>\n",
              "      <td>0</td>\n",
              "      <td>0</td>\n",
              "      <td>0</td>\n",
              "      <td>0</td>\n",
              "      <td>0</td>\n",
              "      <td>0</td>\n",
              "      <td>0</td>\n",
              "      <td>0</td>\n",
              "      <td>0</td>\n",
              "      <td>0</td>\n",
              "      <td>0</td>\n",
              "      <td>0</td>\n",
              "      <td>0</td>\n",
              "      <td>0</td>\n",
              "      <td>0</td>\n",
              "      <td>0</td>\n",
              "      <td>0</td>\n",
              "      <td>0</td>\n",
              "      <td>0</td>\n",
              "      <td>0</td>\n",
              "      <td>1</td>\n",
              "      <td>0</td>\n",
              "      <td>0</td>\n",
              "      <td>0</td>\n",
              "      <td>0</td>\n",
              "      <td>0</td>\n",
              "      <td>0</td>\n",
              "      <td>0</td>\n",
              "    </tr>\n",
              "    <tr>\n",
              "      <th>2</th>\n",
              "      <td>HD3DSEMC</td>\n",
              "      <td>56</td>\n",
              "      <td>26</td>\n",
              "      <td>14.210464</td>\n",
              "      <td>0</td>\n",
              "      <td>train</td>\n",
              "      <td>0</td>\n",
              "      <td>0</td>\n",
              "      <td>0</td>\n",
              "      <td>1</td>\n",
              "      <td>0</td>\n",
              "      <td>1</td>\n",
              "      <td>0</td>\n",
              "      <td>0</td>\n",
              "      <td>0</td>\n",
              "      <td>1</td>\n",
              "      <td>0</td>\n",
              "      <td>0</td>\n",
              "      <td>0</td>\n",
              "      <td>0</td>\n",
              "      <td>0</td>\n",
              "      <td>0</td>\n",
              "      <td>0</td>\n",
              "      <td>0</td>\n",
              "      <td>0</td>\n",
              "      <td>0</td>\n",
              "      <td>0</td>\n",
              "      <td>0</td>\n",
              "      <td>0</td>\n",
              "      <td>0</td>\n",
              "      <td>0</td>\n",
              "      <td>0</td>\n",
              "      <td>0</td>\n",
              "      <td>1</td>\n",
              "      <td>0</td>\n",
              "      <td>0</td>\n",
              "      <td>0</td>\n",
              "      <td>0</td>\n",
              "      <td>0</td>\n",
              "      <td>0</td>\n",
              "      <td>0</td>\n",
              "      <td>0</td>\n",
              "      <td>0</td>\n",
              "      <td>0</td>\n",
              "      <td>0</td>\n",
              "      <td>0</td>\n",
              "      <td>0</td>\n",
              "      <td>0</td>\n",
              "      <td>0</td>\n",
              "      <td>0</td>\n",
              "    </tr>\n",
              "    <tr>\n",
              "      <th>3</th>\n",
              "      <td>BF3NC7KV</td>\n",
              "      <td>34</td>\n",
              "      <td>19</td>\n",
              "      <td>13.061453</td>\n",
              "      <td>0</td>\n",
              "      <td>train</td>\n",
              "      <td>1</td>\n",
              "      <td>0</td>\n",
              "      <td>1</td>\n",
              "      <td>0</td>\n",
              "      <td>0</td>\n",
              "      <td>0</td>\n",
              "      <td>0</td>\n",
              "      <td>0</td>\n",
              "      <td>0</td>\n",
              "      <td>0</td>\n",
              "      <td>0</td>\n",
              "      <td>0</td>\n",
              "      <td>0</td>\n",
              "      <td>0</td>\n",
              "      <td>0</td>\n",
              "      <td>0</td>\n",
              "      <td>0</td>\n",
              "      <td>0</td>\n",
              "      <td>0</td>\n",
              "      <td>0</td>\n",
              "      <td>0</td>\n",
              "      <td>0</td>\n",
              "      <td>0</td>\n",
              "      <td>0</td>\n",
              "      <td>0</td>\n",
              "      <td>0</td>\n",
              "      <td>0</td>\n",
              "      <td>0</td>\n",
              "      <td>0</td>\n",
              "      <td>1</td>\n",
              "      <td>0</td>\n",
              "      <td>0</td>\n",
              "      <td>0</td>\n",
              "      <td>0</td>\n",
              "      <td>0</td>\n",
              "      <td>0</td>\n",
              "      <td>0</td>\n",
              "      <td>0</td>\n",
              "      <td>0</td>\n",
              "      <td>0</td>\n",
              "      <td>0</td>\n",
              "      <td>0</td>\n",
              "      <td>0</td>\n",
              "      <td>0</td>\n",
              "    </tr>\n",
              "    <tr>\n",
              "      <th>4</th>\n",
              "      <td>TEASRWXV</td>\n",
              "      <td>30</td>\n",
              "      <td>33</td>\n",
              "      <td>13.695360</td>\n",
              "      <td>0</td>\n",
              "      <td>train</td>\n",
              "      <td>0</td>\n",
              "      <td>0</td>\n",
              "      <td>1</td>\n",
              "      <td>0</td>\n",
              "      <td>0</td>\n",
              "      <td>0</td>\n",
              "      <td>0</td>\n",
              "      <td>0</td>\n",
              "      <td>0</td>\n",
              "      <td>0</td>\n",
              "      <td>0</td>\n",
              "      <td>0</td>\n",
              "      <td>0</td>\n",
              "      <td>0</td>\n",
              "      <td>0</td>\n",
              "      <td>0</td>\n",
              "      <td>0</td>\n",
              "      <td>0</td>\n",
              "      <td>0</td>\n",
              "      <td>0</td>\n",
              "      <td>0</td>\n",
              "      <td>0</td>\n",
              "      <td>0</td>\n",
              "      <td>0</td>\n",
              "      <td>0</td>\n",
              "      <td>0</td>\n",
              "      <td>0</td>\n",
              "      <td>0</td>\n",
              "      <td>0</td>\n",
              "      <td>0</td>\n",
              "      <td>0</td>\n",
              "      <td>0</td>\n",
              "      <td>0</td>\n",
              "      <td>0</td>\n",
              "      <td>0</td>\n",
              "      <td>0</td>\n",
              "      <td>0</td>\n",
              "      <td>0</td>\n",
              "      <td>0</td>\n",
              "      <td>0</td>\n",
              "      <td>0</td>\n",
              "      <td>1</td>\n",
              "      <td>0</td>\n",
              "      <td>0</td>\n",
              "    </tr>\n",
              "  </tbody>\n",
              "</table>\n",
              "</div>"
            ],
            "text/plain": [
              "         ID  Age  Vintage  ...  Region_Code_32  Region_Code_33 Region_Code_34\n",
              "0  NNVBBKZB   73       43  ...               0               0              0\n",
              "1  IDD62UNG   30       32  ...               0               0              0\n",
              "2  HD3DSEMC   56       26  ...               0               0              0\n",
              "3  BF3NC7KV   34       19  ...               0               0              0\n",
              "4  TEASRWXV   30       33  ...               1               0              0\n",
              "\n",
              "[5 rows x 50 columns]"
            ]
          },
          "metadata": {
            "tags": []
          },
          "execution_count": 40
        }
      ]
    },
    {
      "cell_type": "code",
      "metadata": {
        "colab": {
          "base_uri": "https://localhost:8080/",
          "height": 215
        },
        "id": "67Jlrvw290HQ",
        "outputId": "f95d4204-1f6a-4fa9-9f99-0fa7106c35c0"
      },
      "source": [
        "#Divide into test and train:\n",
        "df = card.loc[card['source']==\"train\"]\n",
        "df_test = card.loc[card['source']==\"test\"]\n",
        "\n",
        "#Drop unnecessary columns:\n",
        "df_test.drop(['Is_Lead','source'],axis=1,inplace=True)\n",
        "df.drop(['source'],axis=1,inplace=True)\n",
        "df.head()"
      ],
      "execution_count": 41,
      "outputs": [
        {
          "output_type": "execute_result",
          "data": {
            "text/html": [
              "<div>\n",
              "<style scoped>\n",
              "    .dataframe tbody tr th:only-of-type {\n",
              "        vertical-align: middle;\n",
              "    }\n",
              "\n",
              "    .dataframe tbody tr th {\n",
              "        vertical-align: top;\n",
              "    }\n",
              "\n",
              "    .dataframe thead th {\n",
              "        text-align: right;\n",
              "    }\n",
              "</style>\n",
              "<table border=\"1\" class=\"dataframe\">\n",
              "  <thead>\n",
              "    <tr style=\"text-align: right;\">\n",
              "      <th></th>\n",
              "      <th>ID</th>\n",
              "      <th>Age</th>\n",
              "      <th>Vintage</th>\n",
              "      <th>Avg_Account_Balance</th>\n",
              "      <th>Is_Lead</th>\n",
              "      <th>Gender_1</th>\n",
              "      <th>Occupation_1</th>\n",
              "      <th>Occupation_2</th>\n",
              "      <th>Occupation_3</th>\n",
              "      <th>Channel_Code_1</th>\n",
              "      <th>Channel_Code_2</th>\n",
              "      <th>Channel_Code_3</th>\n",
              "      <th>Credit_Product_1</th>\n",
              "      <th>Credit_Product_2</th>\n",
              "      <th>Is_Active_1</th>\n",
              "      <th>Region_Code_1</th>\n",
              "      <th>Region_Code_2</th>\n",
              "      <th>Region_Code_3</th>\n",
              "      <th>Region_Code_4</th>\n",
              "      <th>Region_Code_5</th>\n",
              "      <th>Region_Code_6</th>\n",
              "      <th>Region_Code_7</th>\n",
              "      <th>Region_Code_8</th>\n",
              "      <th>Region_Code_9</th>\n",
              "      <th>Region_Code_10</th>\n",
              "      <th>Region_Code_11</th>\n",
              "      <th>Region_Code_12</th>\n",
              "      <th>Region_Code_13</th>\n",
              "      <th>Region_Code_14</th>\n",
              "      <th>Region_Code_15</th>\n",
              "      <th>Region_Code_16</th>\n",
              "      <th>Region_Code_17</th>\n",
              "      <th>Region_Code_18</th>\n",
              "      <th>Region_Code_19</th>\n",
              "      <th>Region_Code_20</th>\n",
              "      <th>Region_Code_21</th>\n",
              "      <th>Region_Code_22</th>\n",
              "      <th>Region_Code_23</th>\n",
              "      <th>Region_Code_24</th>\n",
              "      <th>Region_Code_25</th>\n",
              "      <th>Region_Code_26</th>\n",
              "      <th>Region_Code_27</th>\n",
              "      <th>Region_Code_28</th>\n",
              "      <th>Region_Code_29</th>\n",
              "      <th>Region_Code_30</th>\n",
              "      <th>Region_Code_31</th>\n",
              "      <th>Region_Code_32</th>\n",
              "      <th>Region_Code_33</th>\n",
              "      <th>Region_Code_34</th>\n",
              "    </tr>\n",
              "  </thead>\n",
              "  <tbody>\n",
              "    <tr>\n",
              "      <th>0</th>\n",
              "      <td>NNVBBKZB</td>\n",
              "      <td>73</td>\n",
              "      <td>43</td>\n",
              "      <td>13.860193</td>\n",
              "      <td>0</td>\n",
              "      <td>0</td>\n",
              "      <td>1</td>\n",
              "      <td>0</td>\n",
              "      <td>0</td>\n",
              "      <td>0</td>\n",
              "      <td>1</td>\n",
              "      <td>0</td>\n",
              "      <td>0</td>\n",
              "      <td>0</td>\n",
              "      <td>0</td>\n",
              "      <td>0</td>\n",
              "      <td>0</td>\n",
              "      <td>0</td>\n",
              "      <td>0</td>\n",
              "      <td>0</td>\n",
              "      <td>0</td>\n",
              "      <td>0</td>\n",
              "      <td>0</td>\n",
              "      <td>0</td>\n",
              "      <td>0</td>\n",
              "      <td>0</td>\n",
              "      <td>0</td>\n",
              "      <td>0</td>\n",
              "      <td>0</td>\n",
              "      <td>0</td>\n",
              "      <td>0</td>\n",
              "      <td>0</td>\n",
              "      <td>1</td>\n",
              "      <td>0</td>\n",
              "      <td>0</td>\n",
              "      <td>0</td>\n",
              "      <td>0</td>\n",
              "      <td>0</td>\n",
              "      <td>0</td>\n",
              "      <td>0</td>\n",
              "      <td>0</td>\n",
              "      <td>0</td>\n",
              "      <td>0</td>\n",
              "      <td>0</td>\n",
              "      <td>0</td>\n",
              "      <td>0</td>\n",
              "      <td>0</td>\n",
              "      <td>0</td>\n",
              "      <td>0</td>\n",
              "    </tr>\n",
              "    <tr>\n",
              "      <th>1</th>\n",
              "      <td>IDD62UNG</td>\n",
              "      <td>30</td>\n",
              "      <td>32</td>\n",
              "      <td>13.274205</td>\n",
              "      <td>0</td>\n",
              "      <td>0</td>\n",
              "      <td>0</td>\n",
              "      <td>1</td>\n",
              "      <td>0</td>\n",
              "      <td>0</td>\n",
              "      <td>0</td>\n",
              "      <td>0</td>\n",
              "      <td>0</td>\n",
              "      <td>0</td>\n",
              "      <td>0</td>\n",
              "      <td>0</td>\n",
              "      <td>0</td>\n",
              "      <td>0</td>\n",
              "      <td>0</td>\n",
              "      <td>0</td>\n",
              "      <td>0</td>\n",
              "      <td>0</td>\n",
              "      <td>0</td>\n",
              "      <td>0</td>\n",
              "      <td>0</td>\n",
              "      <td>0</td>\n",
              "      <td>0</td>\n",
              "      <td>0</td>\n",
              "      <td>0</td>\n",
              "      <td>0</td>\n",
              "      <td>0</td>\n",
              "      <td>0</td>\n",
              "      <td>0</td>\n",
              "      <td>0</td>\n",
              "      <td>0</td>\n",
              "      <td>0</td>\n",
              "      <td>0</td>\n",
              "      <td>0</td>\n",
              "      <td>0</td>\n",
              "      <td>0</td>\n",
              "      <td>0</td>\n",
              "      <td>1</td>\n",
              "      <td>0</td>\n",
              "      <td>0</td>\n",
              "      <td>0</td>\n",
              "      <td>0</td>\n",
              "      <td>0</td>\n",
              "      <td>0</td>\n",
              "      <td>0</td>\n",
              "    </tr>\n",
              "    <tr>\n",
              "      <th>2</th>\n",
              "      <td>HD3DSEMC</td>\n",
              "      <td>56</td>\n",
              "      <td>26</td>\n",
              "      <td>14.210464</td>\n",
              "      <td>0</td>\n",
              "      <td>0</td>\n",
              "      <td>0</td>\n",
              "      <td>0</td>\n",
              "      <td>1</td>\n",
              "      <td>0</td>\n",
              "      <td>1</td>\n",
              "      <td>0</td>\n",
              "      <td>0</td>\n",
              "      <td>0</td>\n",
              "      <td>1</td>\n",
              "      <td>0</td>\n",
              "      <td>0</td>\n",
              "      <td>0</td>\n",
              "      <td>0</td>\n",
              "      <td>0</td>\n",
              "      <td>0</td>\n",
              "      <td>0</td>\n",
              "      <td>0</td>\n",
              "      <td>0</td>\n",
              "      <td>0</td>\n",
              "      <td>0</td>\n",
              "      <td>0</td>\n",
              "      <td>0</td>\n",
              "      <td>0</td>\n",
              "      <td>0</td>\n",
              "      <td>0</td>\n",
              "      <td>0</td>\n",
              "      <td>1</td>\n",
              "      <td>0</td>\n",
              "      <td>0</td>\n",
              "      <td>0</td>\n",
              "      <td>0</td>\n",
              "      <td>0</td>\n",
              "      <td>0</td>\n",
              "      <td>0</td>\n",
              "      <td>0</td>\n",
              "      <td>0</td>\n",
              "      <td>0</td>\n",
              "      <td>0</td>\n",
              "      <td>0</td>\n",
              "      <td>0</td>\n",
              "      <td>0</td>\n",
              "      <td>0</td>\n",
              "      <td>0</td>\n",
              "    </tr>\n",
              "    <tr>\n",
              "      <th>3</th>\n",
              "      <td>BF3NC7KV</td>\n",
              "      <td>34</td>\n",
              "      <td>19</td>\n",
              "      <td>13.061453</td>\n",
              "      <td>0</td>\n",
              "      <td>1</td>\n",
              "      <td>0</td>\n",
              "      <td>1</td>\n",
              "      <td>0</td>\n",
              "      <td>0</td>\n",
              "      <td>0</td>\n",
              "      <td>0</td>\n",
              "      <td>0</td>\n",
              "      <td>0</td>\n",
              "      <td>0</td>\n",
              "      <td>0</td>\n",
              "      <td>0</td>\n",
              "      <td>0</td>\n",
              "      <td>0</td>\n",
              "      <td>0</td>\n",
              "      <td>0</td>\n",
              "      <td>0</td>\n",
              "      <td>0</td>\n",
              "      <td>0</td>\n",
              "      <td>0</td>\n",
              "      <td>0</td>\n",
              "      <td>0</td>\n",
              "      <td>0</td>\n",
              "      <td>0</td>\n",
              "      <td>0</td>\n",
              "      <td>0</td>\n",
              "      <td>0</td>\n",
              "      <td>0</td>\n",
              "      <td>0</td>\n",
              "      <td>1</td>\n",
              "      <td>0</td>\n",
              "      <td>0</td>\n",
              "      <td>0</td>\n",
              "      <td>0</td>\n",
              "      <td>0</td>\n",
              "      <td>0</td>\n",
              "      <td>0</td>\n",
              "      <td>0</td>\n",
              "      <td>0</td>\n",
              "      <td>0</td>\n",
              "      <td>0</td>\n",
              "      <td>0</td>\n",
              "      <td>0</td>\n",
              "      <td>0</td>\n",
              "    </tr>\n",
              "    <tr>\n",
              "      <th>4</th>\n",
              "      <td>TEASRWXV</td>\n",
              "      <td>30</td>\n",
              "      <td>33</td>\n",
              "      <td>13.695360</td>\n",
              "      <td>0</td>\n",
              "      <td>0</td>\n",
              "      <td>0</td>\n",
              "      <td>1</td>\n",
              "      <td>0</td>\n",
              "      <td>0</td>\n",
              "      <td>0</td>\n",
              "      <td>0</td>\n",
              "      <td>0</td>\n",
              "      <td>0</td>\n",
              "      <td>0</td>\n",
              "      <td>0</td>\n",
              "      <td>0</td>\n",
              "      <td>0</td>\n",
              "      <td>0</td>\n",
              "      <td>0</td>\n",
              "      <td>0</td>\n",
              "      <td>0</td>\n",
              "      <td>0</td>\n",
              "      <td>0</td>\n",
              "      <td>0</td>\n",
              "      <td>0</td>\n",
              "      <td>0</td>\n",
              "      <td>0</td>\n",
              "      <td>0</td>\n",
              "      <td>0</td>\n",
              "      <td>0</td>\n",
              "      <td>0</td>\n",
              "      <td>0</td>\n",
              "      <td>0</td>\n",
              "      <td>0</td>\n",
              "      <td>0</td>\n",
              "      <td>0</td>\n",
              "      <td>0</td>\n",
              "      <td>0</td>\n",
              "      <td>0</td>\n",
              "      <td>0</td>\n",
              "      <td>0</td>\n",
              "      <td>0</td>\n",
              "      <td>0</td>\n",
              "      <td>0</td>\n",
              "      <td>0</td>\n",
              "      <td>1</td>\n",
              "      <td>0</td>\n",
              "      <td>0</td>\n",
              "    </tr>\n",
              "  </tbody>\n",
              "</table>\n",
              "</div>"
            ],
            "text/plain": [
              "         ID  Age  Vintage  ...  Region_Code_32  Region_Code_33  Region_Code_34\n",
              "0  NNVBBKZB   73       43  ...               0               0               0\n",
              "1  IDD62UNG   30       32  ...               0               0               0\n",
              "2  HD3DSEMC   56       26  ...               0               0               0\n",
              "3  BF3NC7KV   34       19  ...               0               0               0\n",
              "4  TEASRWXV   30       33  ...               1               0               0\n",
              "\n",
              "[5 rows x 49 columns]"
            ]
          },
          "metadata": {
            "tags": []
          },
          "execution_count": 41
        }
      ]
    },
    {
      "cell_type": "markdown",
      "metadata": {
        "id": "m_VftRuyAp1D"
      },
      "source": [
        "## Clustering"
      ]
    },
    {
      "cell_type": "code",
      "metadata": {
        "id": "FiE17yJT-JeV"
      },
      "source": [
        "from sklearn.cluster import KMeans\n",
        "from sklearn.metrics import roc_auc_score"
      ],
      "execution_count": 42,
      "outputs": []
    },
    {
      "cell_type": "code",
      "metadata": {
        "colab": {
          "base_uri": "https://localhost:8080/"
        },
        "id": "gi3JhREWIZLK",
        "outputId": "615a6573-828e-4069-c7ca-40849029e0ad"
      },
      "source": [
        "target = ['Is_Lead']\n",
        "not_features = ['ID', 'Is_Lead']\n",
        "cols = list(df.columns)\n",
        "features = [feat for feat in cols if feat not in not_features]\n",
        "print(features)"
      ],
      "execution_count": 43,
      "outputs": [
        {
          "output_type": "stream",
          "text": [
            "['Age', 'Vintage', 'Avg_Account_Balance', 'Gender_1', 'Occupation_1', 'Occupation_2', 'Occupation_3', 'Channel_Code_1', 'Channel_Code_2', 'Channel_Code_3', 'Credit_Product_1', 'Credit_Product_2', 'Is_Active_1', 'Region_Code_1', 'Region_Code_2', 'Region_Code_3', 'Region_Code_4', 'Region_Code_5', 'Region_Code_6', 'Region_Code_7', 'Region_Code_8', 'Region_Code_9', 'Region_Code_10', 'Region_Code_11', 'Region_Code_12', 'Region_Code_13', 'Region_Code_14', 'Region_Code_15', 'Region_Code_16', 'Region_Code_17', 'Region_Code_18', 'Region_Code_19', 'Region_Code_20', 'Region_Code_21', 'Region_Code_22', 'Region_Code_23', 'Region_Code_24', 'Region_Code_25', 'Region_Code_26', 'Region_Code_27', 'Region_Code_28', 'Region_Code_29', 'Region_Code_30', 'Region_Code_31', 'Region_Code_32', 'Region_Code_33', 'Region_Code_34']\n"
          ],
          "name": "stdout"
        }
      ]
    },
    {
      "cell_type": "code",
      "metadata": {
        "id": "RJl1COYyAtic"
      },
      "source": [
        "kmeans = KMeans(n_clusters=3, random_state=42, n_jobs=-1)\n",
        "kmeans.fit(df[features])\n",
        "\n",
        "df['cluster'] = kmeans.predict(df[features])\n",
        "df_test['cluster'] = kmeans.predict(df_test[features])"
      ],
      "execution_count": 44,
      "outputs": []
    },
    {
      "cell_type": "markdown",
      "metadata": {
        "id": "5iz3NGweNkn3"
      },
      "source": [
        "## Train Test Split"
      ]
    },
    {
      "cell_type": "code",
      "metadata": {
        "id": "yY-AdifhJU4K"
      },
      "source": [
        "## Importing Libaries\n",
        "from sklearn.model_selection import train_test_split\n",
        "\n",
        "X= df.drop(columns= ['ID', \"Is_Lead\"], axis= 1)\n",
        "y= df['Is_Lead']\n",
        "\n",
        "X_train, X_test, y_train, y_test= train_test_split(X,y,stratify=y, random_state= 42, train_size= 0.70)"
      ],
      "execution_count": 45,
      "outputs": []
    },
    {
      "cell_type": "code",
      "metadata": {
        "id": "pvf-R0NKPzz_"
      },
      "source": [
        "## !pip install catboost"
      ],
      "execution_count": 46,
      "outputs": []
    },
    {
      "cell_type": "markdown",
      "metadata": {
        "id": "_kHU-N-1XWYx"
      },
      "source": [
        "## Model Evalution\n",
        "\n",
        "### Random Forest Classifier"
      ]
    },
    {
      "cell_type": "code",
      "metadata": {
        "id": "VSwdnUtMPXLF"
      },
      "source": [
        "##!pip install catboost"
      ],
      "execution_count": null,
      "outputs": []
    },
    {
      "cell_type": "code",
      "metadata": {
        "id": "AqawLY31JY0R"
      },
      "source": [
        "## Loading Libaries\n",
        "from sklearn.linear_model import LogisticRegression\n",
        "from sklearn import metrics\n",
        "from sklearn.metrics import roc_curve, roc_auc_score, classification_report, accuracy_score, confusion_matrix, auc\n",
        "from sklearn.model_selection import StratifiedKFold\n",
        "from sklearn.model_selection import cross_val_score\n",
        "from sklearn.model_selection import GridSearchCV\n",
        "from sklearn.ensemble import RandomForestClassifier\n",
        "from sklearn.svm import SVC\n",
        "from xgboost import XGBClassifier\n",
        "from sklearn.tree import DecisionTreeClassifier\n",
        "import xgboost as xgb\n",
        "from lightgbm import LGBMClassifier\n",
        "from catboost import CatBoostClassifier\n",
        "from sklearn.neural_network import MLPClassifier"
      ],
      "execution_count": 49,
      "outputs": []
    },
    {
      "cell_type": "code",
      "metadata": {
        "colab": {
          "base_uri": "https://localhost:8080/"
        },
        "id": "uw6zpFVjQAFC",
        "outputId": "e08af910-5c7e-4e8e-dda7-2e656090d57a"
      },
      "source": [
        "# Number of trees in random forest\n",
        "n_estimators = [int(x) for x in np.linspace(start = 20, stop = 100, num = 10)]\n",
        "# Number of features to consider at every split\n",
        "max_features = ['auto', 'sqrt','log2']\n",
        "# Maximum number of levels in tree\n",
        "max_depth = [int(x) for x in np.linspace(10, 100,10)]\n",
        "# Minimum number of samples required to split a node\n",
        "min_samples_split = [5, 10, 14]\n",
        "# Minimum number of samples required at each leaf node\n",
        "min_samples_leaf = [1, 2, 4, 6, 8]\n",
        "# Create the random grid\n",
        "random_grid = {'n_estimators': n_estimators,\n",
        "               'max_features': max_features,\n",
        "               'max_depth': max_depth,\n",
        "               'min_samples_split': min_samples_split,\n",
        "               'min_samples_leaf': min_samples_leaf,\n",
        "               'criterion':['entropy','gini']}\n",
        "print(random_grid)"
      ],
      "execution_count": 48,
      "outputs": [
        {
          "output_type": "stream",
          "text": [
            "{'n_estimators': [20, 28, 37, 46, 55, 64, 73, 82, 91, 100], 'max_features': ['auto', 'sqrt', 'log2'], 'max_depth': [10, 20, 30, 40, 50, 60, 70, 80, 90, 100], 'min_samples_split': [5, 10, 14], 'min_samples_leaf': [1, 2, 4, 6, 8], 'criterion': ['entropy', 'gini']}\n"
          ],
          "name": "stdout"
        }
      ]
    },
    {
      "cell_type": "code",
      "metadata": {
        "colab": {
          "base_uri": "https://localhost:8080/",
          "height": 743
        },
        "id": "FMCVS1zMTsDh",
        "outputId": "968e3cf1-0dd4-419f-c20e-043c7c064a29"
      },
      "source": [
        "!pip install tpot"
      ],
      "execution_count": 56,
      "outputs": [
        {
          "output_type": "stream",
          "text": [
            "Collecting tpot\n",
            "\u001b[?25l  Downloading https://files.pythonhosted.org/packages/b2/55/a7185198f554ea19758e5ac4641f100c94cba4585e738e2e48e3c40a0b7f/TPOT-0.11.7-py3-none-any.whl (87kB)\n",
            "\r\u001b[K     |███▊                            | 10kB 13.4MB/s eta 0:00:01\r\u001b[K     |███████▌                        | 20kB 6.6MB/s eta 0:00:01\r\u001b[K     |███████████▎                    | 30kB 4.9MB/s eta 0:00:01\r\u001b[K     |███████████████                 | 40kB 4.6MB/s eta 0:00:01\r\u001b[K     |██████████████████▉             | 51kB 2.7MB/s eta 0:00:01\r\u001b[K     |██████████████████████▋         | 61kB 3.0MB/s eta 0:00:01\r\u001b[K     |██████████████████████████▎     | 71kB 3.2MB/s eta 0:00:01\r\u001b[K     |██████████████████████████████  | 81kB 3.4MB/s eta 0:00:01\r\u001b[K     |████████████████████████████████| 92kB 2.8MB/s \n",
            "\u001b[?25hCollecting stopit>=1.1.1\n",
            "  Downloading https://files.pythonhosted.org/packages/35/58/e8bb0b0fb05baf07bbac1450c447d753da65f9701f551dca79823ce15d50/stopit-1.1.2.tar.gz\n",
            "Requirement already satisfied: scikit-learn>=0.22.0 in /usr/local/lib/python3.7/dist-packages (from tpot) (0.22.2.post1)\n",
            "Requirement already satisfied: tqdm>=4.36.1 in /usr/local/lib/python3.7/dist-packages (from tpot) (4.41.1)\n",
            "Requirement already satisfied: pandas>=0.24.2 in /usr/local/lib/python3.7/dist-packages (from tpot) (1.1.5)\n",
            "Requirement already satisfied: joblib>=0.13.2 in /usr/local/lib/python3.7/dist-packages (from tpot) (1.0.1)\n",
            "Requirement already satisfied: numpy>=1.16.3 in /usr/local/lib/python3.7/dist-packages (from tpot) (1.19.5)\n",
            "Collecting deap>=1.2\n",
            "\u001b[?25l  Downloading https://files.pythonhosted.org/packages/99/d1/803c7a387d8a7e6866160b1541307f88d534da4291572fb32f69d2548afb/deap-1.3.1-cp37-cp37m-manylinux2010_x86_64.whl (157kB)\n",
            "\u001b[K     |████████████████████████████████| 163kB 5.0MB/s \n",
            "\u001b[?25hCollecting update-checker>=0.16\n",
            "  Downloading https://files.pythonhosted.org/packages/0c/ba/8dd7fa5f0b1c6a8ac62f8f57f7e794160c1f86f31c6d0fb00f582372a3e4/update_checker-0.18.0-py3-none-any.whl\n",
            "Requirement already satisfied: scipy>=1.3.1 in /usr/local/lib/python3.7/dist-packages (from tpot) (1.4.1)\n",
            "Collecting xgboost>=1.1.0\n",
            "\u001b[?25l  Downloading https://files.pythonhosted.org/packages/bb/35/169eec194bf1f9ef52ed670f5032ef2abaf6ed285cfadcb4b6026b800fc9/xgboost-1.4.2-py3-none-manylinux2010_x86_64.whl (166.7MB)\n",
            "\u001b[K     |████████████████████████████████| 166.7MB 87kB/s \n",
            "\u001b[?25hRequirement already satisfied: pytz>=2017.2 in /usr/local/lib/python3.7/dist-packages (from pandas>=0.24.2->tpot) (2018.9)\n",
            "Requirement already satisfied: python-dateutil>=2.7.3 in /usr/local/lib/python3.7/dist-packages (from pandas>=0.24.2->tpot) (2.8.1)\n",
            "Requirement already satisfied: requests>=2.3.0 in /usr/local/lib/python3.7/dist-packages (from update-checker>=0.16->tpot) (2.23.0)\n",
            "Requirement already satisfied: six>=1.5 in /usr/local/lib/python3.7/dist-packages (from python-dateutil>=2.7.3->pandas>=0.24.2->tpot) (1.15.0)\n",
            "Requirement already satisfied: chardet<4,>=3.0.2 in /usr/local/lib/python3.7/dist-packages (from requests>=2.3.0->update-checker>=0.16->tpot) (3.0.4)\n",
            "Requirement already satisfied: certifi>=2017.4.17 in /usr/local/lib/python3.7/dist-packages (from requests>=2.3.0->update-checker>=0.16->tpot) (2020.12.5)\n",
            "Requirement already satisfied: idna<3,>=2.5 in /usr/local/lib/python3.7/dist-packages (from requests>=2.3.0->update-checker>=0.16->tpot) (2.10)\n",
            "Requirement already satisfied: urllib3!=1.25.0,!=1.25.1,<1.26,>=1.21.1 in /usr/local/lib/python3.7/dist-packages (from requests>=2.3.0->update-checker>=0.16->tpot) (1.24.3)\n",
            "Building wheels for collected packages: stopit\n",
            "  Building wheel for stopit (setup.py) ... \u001b[?25l\u001b[?25hdone\n",
            "  Created wheel for stopit: filename=stopit-1.1.2-cp37-none-any.whl size=11954 sha256=a2509ac39b41dfb0db3ad81eace797838ff72c06726ceb9783431803ad6a5df9\n",
            "  Stored in directory: /root/.cache/pip/wheels/3c/85/2b/2580190404636bfc63e8de3dff629c03bb795021e1983a6cc7\n",
            "Successfully built stopit\n",
            "Installing collected packages: stopit, deap, update-checker, xgboost, tpot\n",
            "  Found existing installation: xgboost 0.90\n",
            "    Uninstalling xgboost-0.90:\n",
            "      Successfully uninstalled xgboost-0.90\n",
            "Successfully installed deap-1.3.1 stopit-1.1.2 tpot-0.11.7 update-checker-0.18.0 xgboost-1.4.2\n"
          ],
          "name": "stdout"
        },
        {
          "output_type": "display_data",
          "data": {
            "application/vnd.colab-display-data+json": {
              "pip_warning": {
                "packages": [
                  "xgboost"
                ]
              }
            }
          },
          "metadata": {
            "tags": []
          }
        }
      ]
    },
    {
      "cell_type": "code",
      "metadata": {
        "colab": {
          "base_uri": "https://localhost:8080/",
          "height": 927,
          "referenced_widgets": [
            "6e45190da726473f80fbd316902dccb3",
            "21d3f41162c3455f8be283718100c13f",
            "e0db82b7015d48c480314672b4d60942",
            "6c76a8b10d0c42599b85eef162ba95e9",
            "02fd3e62677b4c89b44d2f6d5b62a314",
            "30318c16c5e4411591277125fb259282",
            "8a0141ade8cd4b66a64abfb61c3f9eb1",
            "31590b9fce4640dfa1cd9e65cf8e82b0"
          ]
        },
        "id": "Dqbg1mRrVAG2",
        "outputId": "8c1a1d17-49b8-4f3c-9952-ffdde1330288"
      },
      "source": [
        "from tpot import TPOTClassifier\n",
        "cv = StratifiedKFold(n_splits=5, random_state=42)\n",
        "model_rfc = TPOTClassifier(generations= 5, population_size= 25, offspring_size= 12,\n",
        "                                 verbosity= 2, early_stop= 12,\n",
        "                                 config_dict={'sklearn.ensemble.RandomForestClassifier': random_grid}, \n",
        "                                 cv = cv, scoring = 'roc_auc')\n",
        "model_rfc.fit(X_train,y_train)"
      ],
      "execution_count": 50,
      "outputs": [
        {
          "output_type": "display_data",
          "data": {
            "application/vnd.jupyter.widget-view+json": {
              "model_id": "6e45190da726473f80fbd316902dccb3",
              "version_minor": 0,
              "version_major": 2
            },
            "text/plain": [
              "HBox(children=(FloatProgress(value=0.0, description='Optimization Progress', max=85.0, style=ProgressStyle(des…"
            ]
          },
          "metadata": {
            "tags": []
          }
        },
        {
          "output_type": "stream",
          "text": [
            "\r\n",
            "Generation 1 - Current best internal CV score: 0.8716904223670557\n",
            "\n",
            "Generation 2 - Current best internal CV score: 0.8716904223670557\n",
            "\n",
            "Generation 3 - Current best internal CV score: 0.8716904223670557\n",
            "\n",
            "Generation 4 - Current best internal CV score: 0.872054618450489\n",
            "\n",
            "Generation 5 - Current best internal CV score: 0.872054618450489\n",
            "\n",
            "Best pipeline: RandomForestClassifier(RandomForestClassifier(input_matrix, criterion=gini, max_depth=10, max_features=auto, min_samples_leaf=2, min_samples_split=14, n_estimators=100), criterion=entropy, max_depth=10, max_features=auto, min_samples_leaf=4, min_samples_split=5, n_estimators=20)\n"
          ],
          "name": "stdout"
        },
        {
          "output_type": "execute_result",
          "data": {
            "text/plain": [
              "TPOTClassifier(config_dict={'sklearn.ensemble.RandomForestClassifier': {'criterion': ['entropy',\n",
              "                                                                                      'gini'],\n",
              "                                                                        'max_depth': [10,\n",
              "                                                                                      20,\n",
              "                                                                                      30,\n",
              "                                                                                      40,\n",
              "                                                                                      50,\n",
              "                                                                                      60,\n",
              "                                                                                      70,\n",
              "                                                                                      80,\n",
              "                                                                                      90,\n",
              "                                                                                      100],\n",
              "                                                                        'max_features': ['auto',\n",
              "                                                                                         'sqrt',\n",
              "                                                                                         'log2'],\n",
              "                                                                        'min_samples_leaf': [1,\n",
              "                                                                                             2,\n",
              "                                                                                             4,\n",
              "                                                                                             6,\n",
              "                                                                                             8],\n",
              "                                                                        'min_samples_split': [5,\n",
              "                                                                                              10,\n",
              "                                                                                              14],\n",
              "                                                                        'n_estimators': [20,\n",
              "                                                                                         28,\n",
              "                                                                                         37,\n",
              "                                                                                         46,\n",
              "                                                                                         55,\n",
              "                                                                                         64,\n",
              "                                                                                         73,\n",
              "                                                                                         82,\n",
              "                                                                                         91,\n",
              "                                                                                         100]}},\n",
              "               crossover_rate=0.1,\n",
              "               cv=StratifiedKFold(n_splits=5, random_state=42, shuffle=False),\n",
              "               disable_update_check=False, early_stop=12, generations=5,\n",
              "               log_file=None, max_eval_time_mins=5, max_time_mins=None,\n",
              "               memory=None, mutation_rate=0.9, n_jobs=1, offspring_size=12,\n",
              "               periodic_checkpoint_folder=None, population_size=25,\n",
              "               random_state=None, scoring='roc_auc', subsample=1.0,\n",
              "               template=None, use_dask=False, verbosity=2, warm_start=False)"
            ]
          },
          "metadata": {
            "tags": []
          },
          "execution_count": 50
        }
      ]
    },
    {
      "cell_type": "code",
      "metadata": {
        "id": "JJNG99YfZFYh"
      },
      "source": [
        "y_prob = model_rfc.predict_proba(X_test)[:,1]"
      ],
      "execution_count": 51,
      "outputs": []
    },
    {
      "cell_type": "code",
      "metadata": {
        "colab": {
          "base_uri": "https://localhost:8080/",
          "height": 313
        },
        "id": "PKI31zNybiqY",
        "outputId": "98e6f65c-20bb-4ebd-ea7e-6cc46dfafb61"
      },
      "source": [
        "ns_probs = [0 for _ in range(len(y_test))]\n",
        "\n",
        "# predict probabilities\n",
        "lr_probs = y_prob\n",
        "# calculate scores\n",
        "ns_auc = roc_auc_score(y_test, ns_probs)\n",
        "lr_auc = roc_auc_score(y_test, lr_probs)\n",
        "# summarize scores\n",
        "print('No Skill: ROC AUC=%.3f' % (ns_auc))\n",
        "print('Rondom Forest: ROC AUC=%.3f' % (lr_auc))\n",
        "# calculate roc curves\n",
        "ns_fpr, ns_tpr, _ = roc_curve(y_test, ns_probs)\n",
        "lr_fpr, lr_tpr, threshold = roc_curve(y_test, lr_probs)\n",
        "# plot the roc curve for the model\n",
        "plt.plot(ns_fpr, ns_tpr, linestyle='--', label='No Skill')\n",
        "plt.plot(lr_fpr, lr_tpr, marker='.', label='RFC')\n",
        "# axis labels\n",
        "plt.xlabel('False Positive Rate')\n",
        "plt.ylabel('True Positive Rate')\n",
        "# show the legend\n",
        "plt.legend()\n",
        "# show the plot\n",
        "plt.show()"
      ],
      "execution_count": 52,
      "outputs": [
        {
          "output_type": "stream",
          "text": [
            "No Skill: ROC AUC=0.500\n",
            "Rondom Forest: ROC AUC=0.871\n"
          ],
          "name": "stdout"
        },
        {
          "output_type": "display_data",
          "data": {
            "image/png": "[encoded data removed]",
            "text/plain": [
              "<Figure size 432x288 with 1 Axes>"
            ]
          },
          "metadata": {
            "tags": []
          }
        }
      ]
    },
    {
      "cell_type": "code",
      "metadata": {
        "colab": {
          "base_uri": "https://localhost:8080/",
          "height": 402
        },
        "id": "juGIR9WU5g6c",
        "outputId": "08b76e6e-fad9-4d12-aa21-85c1c7e6f3ab"
      },
      "source": [
        "score = pd.DataFrame({'tpr':lr_tpr,'fpr':lr_fpr,'thresh':threshold})\n",
        "score.loc[(score['tpr']>.8) & (score['tpr']<0.85)]"
      ],
      "execution_count": 65,
      "outputs": [
        {
          "output_type": "execute_result",
          "data": {
            "text/html": [
              "<div>\n",
              "<style scoped>\n",
              "    .dataframe tbody tr th:only-of-type {\n",
              "        vertical-align: middle;\n",
              "    }\n",
              "\n",
              "    .dataframe tbody tr th {\n",
              "        vertical-align: top;\n",
              "    }\n",
              "\n",
              "    .dataframe thead th {\n",
              "        text-align: right;\n",
              "    }\n",
              "</style>\n",
              "<table border=\"1\" class=\"dataframe\">\n",
              "  <thead>\n",
              "    <tr style=\"text-align: right;\">\n",
              "      <th></th>\n",
              "      <th>tpr</th>\n",
              "      <th>fpr</th>\n",
              "      <th>thresh</th>\n",
              "    </tr>\n",
              "  </thead>\n",
              "  <tbody>\n",
              "    <tr>\n",
              "      <th>10114</th>\n",
              "      <td>0.800023</td>\n",
              "      <td>0.199641</td>\n",
              "      <td>0.197305</td>\n",
              "    </tr>\n",
              "    <tr>\n",
              "      <th>10115</th>\n",
              "      <td>0.800023</td>\n",
              "      <td>0.199676</td>\n",
              "      <td>0.197273</td>\n",
              "    </tr>\n",
              "    <tr>\n",
              "      <th>10116</th>\n",
              "      <td>0.800080</td>\n",
              "      <td>0.199676</td>\n",
              "      <td>0.197272</td>\n",
              "    </tr>\n",
              "    <tr>\n",
              "      <th>10117</th>\n",
              "      <td>0.800080</td>\n",
              "      <td>0.199730</td>\n",
              "      <td>0.197241</td>\n",
              "    </tr>\n",
              "    <tr>\n",
              "      <th>10118</th>\n",
              "      <td>0.800137</td>\n",
              "      <td>0.199730</td>\n",
              "      <td>0.197215</td>\n",
              "    </tr>\n",
              "    <tr>\n",
              "      <th>...</th>\n",
              "      <td>...</td>\n",
              "      <td>...</td>\n",
              "      <td>...</td>\n",
              "    </tr>\n",
              "    <tr>\n",
              "      <th>11969</th>\n",
              "      <td>0.849888</td>\n",
              "      <td>0.277854</td>\n",
              "      <td>0.131880</td>\n",
              "    </tr>\n",
              "    <tr>\n",
              "      <th>11970</th>\n",
              "      <td>0.849888</td>\n",
              "      <td>0.277872</td>\n",
              "      <td>0.131859</td>\n",
              "    </tr>\n",
              "    <tr>\n",
              "      <th>11971</th>\n",
              "      <td>0.849946</td>\n",
              "      <td>0.277872</td>\n",
              "      <td>0.131852</td>\n",
              "    </tr>\n",
              "    <tr>\n",
              "      <th>11972</th>\n",
              "      <td>0.849946</td>\n",
              "      <td>0.277943</td>\n",
              "      <td>0.131837</td>\n",
              "    </tr>\n",
              "    <tr>\n",
              "      <th>11973</th>\n",
              "      <td>0.849946</td>\n",
              "      <td>0.278138</td>\n",
              "      <td>0.131744</td>\n",
              "    </tr>\n",
              "  </tbody>\n",
              "</table>\n",
              "<p>1860 rows × 3 columns</p>\n",
              "</div>"
            ],
            "text/plain": [
              "            tpr       fpr    thresh\n",
              "10114  0.800023  0.199641  0.197305\n",
              "10115  0.800023  0.199676  0.197273\n",
              "10116  0.800080  0.199676  0.197272\n",
              "10117  0.800080  0.199730  0.197241\n",
              "10118  0.800137  0.199730  0.197215\n",
              "...         ...       ...       ...\n",
              "11969  0.849888  0.277854  0.131880\n",
              "11970  0.849888  0.277872  0.131859\n",
              "11971  0.849946  0.277872  0.131852\n",
              "11972  0.849946  0.277943  0.131837\n",
              "11973  0.849946  0.278138  0.131744\n",
              "\n",
              "[1860 rows x 3 columns]"
            ]
          },
          "metadata": {
            "tags": []
          },
          "execution_count": 65
        }
      ]
    },
    {
      "cell_type": "code",
      "metadata": {
        "colab": {
          "base_uri": "https://localhost:8080/",
          "height": 314
        },
        "id": "N36fQvt40A6x",
        "outputId": "13a1ebef-1ee2-4fd2-b024-40b21d692e5d"
      },
      "source": [
        "### Confusion Matrix\n",
        "Y_pred= y_prob>0.4\n",
        "sns.heatmap(confusion_matrix(y_test, Y_pred), annot = True, cmap=\"YlGnBu\")\n",
        "plt.title('Confusion Matrix')\n",
        "plt.show()\n",
        "confusion_matrix(y_test, Y_pred)"
      ],
      "execution_count": 67,
      "outputs": [
        {
          "output_type": "display_data",
          "data": {
            "image/png": "[encoded data removed]",
            "text/plain": [
              "<Figure size 432x288 with 2 Axes>"
            ]
          },
          "metadata": {
            "tags": []
          }
        },
        {
          "output_type": "execute_result",
          "data": {
            "text/plain": [
              "array([[42584, 13647],\n",
              "       [ 2988, 14499]])"
            ]
          },
          "metadata": {
            "tags": []
          },
          "execution_count": 67
        }
      ]
    },
    {
      "cell_type": "code",
      "metadata": {
        "colab": {
          "base_uri": "https://localhost:8080/"
        },
        "id": "lYVQwqA01A5P",
        "outputId": "7bb139a4-1868-472d-98f2-8dc8693a933a"
      },
      "source": [
        "## ROC-AUC Score\n",
        "print('Roc-Auc Score:', roc_auc_score(y_test, y_prob)*100,'%')"
      ],
      "execution_count": 69,
      "outputs": [
        {
          "output_type": "stream",
          "text": [
            "Roc-Auc Score: 87.14117333258436 %\n"
          ],
          "name": "stdout"
        }
      ]
    },
    {
      "cell_type": "markdown",
      "metadata": {
        "id": "lHa3M9CP4fRq"
      },
      "source": [
        "## XG Boost"
      ]
    },
    {
      "cell_type": "code",
      "metadata": {
        "id": "IHmMzSSNFMns"
      },
      "source": [
        "random_grid= {'n_estimators': [100], 'max_depth': range(1, 11), \n",
        "              'learning_rate': [1e-3, 1e-2, 1e-1, 0.5, 1.], \n",
        "              'subsample': np.arange(0.05, 1.01, 0.05), \n",
        "              'min_child_weight': range(1, 21), \n",
        "              'nthread': [1]}"
      ],
      "execution_count": 50,
      "outputs": []
    },
    {
      "cell_type": "code",
      "metadata": {
        "colab": {
          "base_uri": "https://localhost:8080/",
          "height": 538,
          "referenced_widgets": [
            "5d646c82a3934f8aa0c8b43e33d99f41",
            "5a4e6975ce324797af49e0001fcc9b66",
            "9cfcd29aea0b43fca00e022f52fc1b73",
            "86a60cdd7ad249c1bb70967eebff6b52",
            "415a1b038f42484e83adcd9109568e04",
            "bd88487bcd1e4d568b15128e9334d3de",
            "2fea5bd209f647d2b154220abdcf698a",
            "c5236a1d44a041f6915caca4bb698d59"
          ]
        },
        "id": "GbOF84FrCTdf",
        "outputId": "acf11c13-fb34-47de-f2b5-0f38ada4a91e"
      },
      "source": [
        "from tpot import TPOTClassifier\n",
        "cv= StratifiedKFold(n_splits=10,random_state= 42)\n",
        "model_xgb= TPOTClassifier(generations=5, population_size=25, offspring_size=12,\n",
        "                          verbosity= 2, early_stop= 12,\n",
        "                          config_dict= {'xgboost.XGBClassifier': random_grid},\n",
        "                          cv=cv, scoring= 'roc_auc')\n",
        "model_xgb.fit(X_train, y_train)"
      ],
      "execution_count": 51,
      "outputs": [
        {
          "output_type": "display_data",
          "data": {
            "application/vnd.jupyter.widget-view+json": {
              "model_id": "5d646c82a3934f8aa0c8b43e33d99f41",
              "version_minor": 0,
              "version_major": 2
            },
            "text/plain": [
              "HBox(children=(FloatProgress(value=0.0, description='Optimization Progress', max=85.0, style=ProgressStyle(des…"
            ]
          },
          "metadata": {
            "tags": []
          }
        },
        {
          "output_type": "stream",
          "text": [
            "\r\n",
            "Generation 1 - Current best internal CV score: 0.8727596376057007\n",
            "\n",
            "Generation 2 - Current best internal CV score: 0.8727596376057007\n",
            "\n",
            "Generation 3 - Current best internal CV score: 0.8727596376057007\n",
            "\n",
            "Generation 4 - Current best internal CV score: 0.8729304060020129\n",
            "\n",
            "Generation 5 - Current best internal CV score: 0.8729304060020129\n",
            "\n",
            "Best pipeline: XGBClassifier(input_matrix, learning_rate=0.1, max_depth=3, min_child_weight=18, n_estimators=100, nthread=1, subsample=0.8)\n"
          ],
          "name": "stdout"
        },
        {
          "output_type": "execute_result",
          "data": {
            "text/plain": [
              "TPOTClassifier(config_dict={'xgboost.XGBClassifier': {'learning_rate': [0.001,\n",
              "                                                                        0.01,\n",
              "                                                                        0.1,\n",
              "                                                                        0.5,\n",
              "                                                                        1.0],\n",
              "                                                      'max_depth': range(1, 11),\n",
              "                                                      'min_child_weight': range(1, 21),\n",
              "                                                      'n_estimators': [100],\n",
              "                                                      'nthread': [1],\n",
              "                                                      'subsample': array([0.05, 0.1 , 0.15, 0.2 , 0.25, 0.3 , 0.35, 0.4 , 0.45, 0.5 , 0.55,\n",
              "       0.6 , 0.65, 0.7 , 0.75, 0.8 , 0.85, 0.9 , 0.95, 1.  ])}},\n",
              "               crossover_rate=0.1,\n",
              "               cv=StratifiedKFold(n_splits=10, random_state=42, shuffle=False),\n",
              "               disable_update_check=False, early_stop=12, generations=5,\n",
              "               log_file=None, max_eval_time_mins=5, max_time_mins=None,\n",
              "               memory=None, mutation_rate=0.9, n_jobs=1, offspring_size=12,\n",
              "               periodic_checkpoint_folder=None, population_size=25,\n",
              "               random_state=None, scoring='roc_auc', subsample=1.0,\n",
              "               template=None, use_dask=False, verbosity=2, warm_start=False)"
            ]
          },
          "metadata": {
            "tags": []
          },
          "execution_count": 51
        }
      ]
    },
    {
      "cell_type": "code",
      "metadata": {
        "id": "faqB1NbBEZtN"
      },
      "source": [
        "y_prob_xgb= model_xgb.predict_proba(X_test)[:,1]"
      ],
      "execution_count": 52,
      "outputs": []
    },
    {
      "cell_type": "code",
      "metadata": {
        "colab": {
          "base_uri": "https://localhost:8080/",
          "height": 313
        },
        "id": "bnUrBcmM59b9",
        "outputId": "82969ec5-5eaa-4139-d8a8-7084a5605482"
      },
      "source": [
        "ns_probs = [0 for _ in range(len(y_test))]\n",
        "\n",
        "# predict probabilities\n",
        "lr_probs = y_prob_xgb\n",
        "# calculate scores\n",
        "ns_auc = roc_auc_score(y_test, ns_probs)\n",
        "lr_auc = roc_auc_score(y_test, lr_probs)\n",
        "# summarize scores\n",
        "print('No Skill: ROC AUC=%.3f' % (ns_auc))\n",
        "print('XG Boost: ROC AUC=%.3f' % (lr_auc))\n",
        "# calculate roc curves\n",
        "ns_fpr, ns_tpr, _ = roc_curve(y_test, ns_probs)\n",
        "lr_fpr, lr_tpr, threshold = roc_curve(y_test, lr_probs)\n",
        "# plot the roc curve for the model\n",
        "plt.plot(ns_fpr, ns_tpr, linestyle='--', label='No Skill')\n",
        "plt.plot(lr_fpr, lr_tpr, marker='.', label='XGB')\n",
        "# axis labels\n",
        "plt.xlabel('False Positive Rate')\n",
        "plt.ylabel('True Positive Rate')\n",
        "# show the legend\n",
        "plt.legend()\n",
        "# show the plot\n",
        "plt.show()"
      ],
      "execution_count": 53,
      "outputs": [
        {
          "output_type": "stream",
          "text": [
            "No Skill: ROC AUC=0.500\n",
            "XG Boost: ROC AUC=0.872\n"
          ],
          "name": "stdout"
        },
        {
          "output_type": "display_data",
          "data": {
            "image/png": "[encoded data removed]",
            "text/plain": [
              "<Figure size 432x288 with 1 Axes>"
            ]
          },
          "metadata": {
            "tags": []
          }
        }
      ]
    },
    {
      "cell_type": "code",
      "metadata": {
        "colab": {
          "base_uri": "https://localhost:8080/",
          "height": 314
        },
        "id": "g-XDeeCP6ZwX",
        "outputId": "f3e82237-a693-4f48-c532-c26e2dfd1fa0"
      },
      "source": [
        "Y_pred_xgb= y_prob_xgb>0.45\n",
        "sns.heatmap(confusion_matrix(y_test, Y_pred_xgb), annot = True, cmap=\"YlGnBu\")\n",
        "plt.title('Confusion Matrix')\n",
        "plt.show()\n",
        "confusion_matrix(y_test, Y_pred_xgb)"
      ],
      "execution_count": 55,
      "outputs": [
        {
          "output_type": "display_data",
          "data": {
            "image/png": "[encoded data removed]",
            "text/plain": [
              "<Figure size 432x288 with 2 Axes>"
            ]
          },
          "metadata": {
            "tags": []
          }
        },
        {
          "output_type": "execute_result",
          "data": {
            "text/plain": [
              "array([[53146,  3085],\n",
              "       [ 7293, 10194]])"
            ]
          },
          "metadata": {
            "tags": []
          },
          "execution_count": 55
        }
      ]
    },
    {
      "cell_type": "code",
      "metadata": {
        "colab": {
          "base_uri": "https://localhost:8080/"
        },
        "id": "0wGizuhB6iO5",
        "outputId": "8d2aa4ca-1bde-4ba3-81ed-f5b73c7d5172"
      },
      "source": [
        "## ROC-AUC Score\n",
        "print('Roc-Auc Score:', roc_auc_score(y_test, y_prob_xgb)*100,'%')"
      ],
      "execution_count": 56,
      "outputs": [
        {
          "output_type": "stream",
          "text": [
            "Roc-Auc Score: 87.17095128198223 %\n"
          ],
          "name": "stdout"
        }
      ]
    },
    {
      "cell_type": "code",
      "metadata": {
        "colab": {
          "base_uri": "https://localhost:8080/"
        },
        "id": "u14EQBtO6pQr",
        "outputId": "2eab8820-7bf6-4e0d-af63-08659c924beb"
      },
      "source": [
        "### Classification Report\n",
        "print(\"Classification report: {}\".format(classification_report(y_test,Y_pred_xgb)))"
      ],
      "execution_count": 64,
      "outputs": [
        {
          "output_type": "stream",
          "text": [
            "Classification report:               precision    recall  f1-score   support\n",
            "\n",
            "           0       0.88      0.95      0.91     56231\n",
            "           1       0.77      0.58      0.66     17487\n",
            "\n",
            "    accuracy                           0.86     73718\n",
            "   macro avg       0.82      0.76      0.79     73718\n",
            "weighted avg       0.85      0.86      0.85     73718\n",
            "\n"
          ],
          "name": "stdout"
        }
      ]
    },
    {
      "cell_type": "markdown",
      "metadata": {
        "id": "KG29dHgdWegp"
      },
      "source": [
        "## LightGM Boosting"
      ]
    },
    {
      "cell_type": "code",
      "metadata": {
        "colab": {
          "base_uri": "https://localhost:8080/"
        },
        "id": "Xsz0poBG8CGj",
        "outputId": "3734e5b2-ea21-42c9-ee2d-f3c57fc66ccc"
      },
      "source": [
        "## Number of boosters \n",
        "boosting_type= ['gbdt', 'dart', 'goss', 'rf']\n",
        "# Maximum number of levels in tree\n",
        "max_depth = [10, 50, 100, 500]\n",
        "# Number of trees in random forest\n",
        "n_estimators = [50, 100, 250, 500]\n",
        "# Minimum number of samples required to split a node\n",
        "min_samples_split = [5, 10, 15, 20]\n",
        "## Objective\n",
        "objective= ['binary','multiclass']\n",
        "# Create the random grid\n",
        "random_grid = {'n_estimators': n_estimators,\n",
        "               'boosting_type': boosting_type,\n",
        "               'max_depth': max_depth,\n",
        "               'min_samples_split': min_samples_split,\n",
        "               'objective': objective\n",
        "               }\n",
        "print(random_grid)"
      ],
      "execution_count": 51,
      "outputs": [
        {
          "output_type": "stream",
          "text": [
            "{'n_estimators': [50, 100, 250, 500], 'boosting_type': ['gbdt', 'dart', 'goss', 'rf'], 'max_depth': [10, 50, 100, 500], 'min_samples_split': [5, 10, 15, 20], 'objective': ['binary', 'multiclass']}\n"
          ],
          "name": "stdout"
        }
      ]
    },
    {
      "cell_type": "code",
      "metadata": {
        "colab": {
          "base_uri": "https://localhost:8080/",
          "height": 538,
          "referenced_widgets": [
            "29583d8ed40b40ed92fa88614827b397",
            "1025fd02b8b94fedb0f19e7ca6ad8bb8",
            "38c06dbc3fcc4b3cb37d46d529609832",
            "8517b66ed5fa4815bdf048d49907d8bd",
            "12629609cc624d0cb4c524c05498bd16",
            "c4c83a755fe5415580302ef8768560c6",
            "10cb9a1145374e4abfde1617d5eb539e",
            "2c426f510c3a40f28a9fcd56f2b9baa0"
          ]
        },
        "id": "Pw6uKmNvPrQ6",
        "outputId": "41109556-9249-405a-a90b-60b8e5710884"
      },
      "source": [
        "from tpot import TPOTClassifier\n",
        "cv = StratifiedKFold(n_splits=10, random_state=42)\n",
        "model_lgb = TPOTClassifier(generations= 2, population_size= 25, offspring_size= 12,\n",
        "                                 verbosity= 2, early_stop= 12,\n",
        "                                 config_dict={'lightgbm.LGBMClassifier': random_grid}, \n",
        "                                 cv = cv, scoring = 'roc_auc')\n",
        "model_lgb.fit(X_train,y_train)"
      ],
      "execution_count": 58,
      "outputs": [
        {
          "output_type": "display_data",
          "data": {
            "application/vnd.jupyter.widget-view+json": {
              "model_id": "29583d8ed40b40ed92fa88614827b397",
              "version_minor": 0,
              "version_major": 2
            },
            "text/plain": [
              "HBox(children=(FloatProgress(value=0.0, description='Optimization Progress', max=49.0, style=ProgressStyle(des…"
            ]
          },
          "metadata": {
            "tags": []
          }
        },
        {
          "output_type": "stream",
          "text": [
            "\r\n",
            "Generation 1 - Current best internal CV score: 0.8742260868113629\n",
            "\n",
            "Generation 2 - Current best internal CV score: 0.8742260868113629\n",
            "\n",
            "Best pipeline: LGBMClassifier(input_matrix, boosting_type=gbdt, max_depth=500, min_samples_split=15, n_estimators=50, objective=binary)\n"
          ],
          "name": "stdout"
        },
        {
          "output_type": "execute_result",
          "data": {
            "text/plain": [
              "TPOTClassifier(config_dict={'lightgbm.LGBMClassifier': {'boosting_type': ['gbdt',\n",
              "                                                                          'dart',\n",
              "                                                                          'goss',\n",
              "                                                                          'rf'],\n",
              "                                                        'max_depth': [10, 50,\n",
              "                                                                      100,\n",
              "                                                                      500],\n",
              "                                                        'min_samples_split': [5,\n",
              "                                                                              10,\n",
              "                                                                              15,\n",
              "                                                                              20],\n",
              "                                                        'n_estimators': [50,\n",
              "                                                                         100,\n",
              "                                                                         250,\n",
              "                                                                         500],\n",
              "                                                        'objective': ['binary',\n",
              "                                                                      'multiclass']}},\n",
              "               crossover_rate=0.1,\n",
              "               cv=StratifiedKFold(n_splits=10, random_state=42, shuffle=False),\n",
              "               disable_update_check=False, early_stop=12, generations=2,\n",
              "               log_file=None, max_eval_time_mins=5, max_time_mins=None,\n",
              "               memory=None, mutation_rate=0.9, n_jobs=1, offspring_size=12,\n",
              "               periodic_checkpoint_folder=None, population_size=25,\n",
              "               random_state=None, scoring='roc_auc', subsample=1.0,\n",
              "               template=None, use_dask=False, verbosity=2, warm_start=False)"
            ]
          },
          "metadata": {
            "tags": []
          },
          "execution_count": 58
        }
      ]
    },
    {
      "cell_type": "code",
      "metadata": {
        "id": "HKKykoN-QjrV"
      },
      "source": [
        "y_prob_lgb= model_lgb.predict_proba(X_test)[:,1]\n",
        "y_pred_lgb= np.where(y_prob_lgb> 0.4, 1,0)"
      ],
      "execution_count": 59,
      "outputs": []
    },
    {
      "cell_type": "code",
      "metadata": {
        "colab": {
          "base_uri": "https://localhost:8080/",
          "height": 313
        },
        "id": "IskOMA9ckN5A",
        "outputId": "27531b04-6b70-4d9f-c5b3-3636b1df8c51"
      },
      "source": [
        "ns_probs = [0 for _ in range(len(y_test))]\n",
        "\n",
        "# predict probabilities\n",
        "lr_probs = y_prob_lgb\n",
        "# calculate scores\n",
        "ns_auc = roc_auc_score(y_test, ns_probs)\n",
        "lr_auc = roc_auc_score(y_test, lr_probs)\n",
        "# summarize scores\n",
        "print('No Skill: ROC AUC=%.3f' % (ns_auc))\n",
        "print('Light GBM: ROC AUC=%.3f' % (lr_auc))\n",
        "# calculate roc curves\n",
        "ns_fpr, ns_tpr, _ = roc_curve(y_test, ns_probs)\n",
        "lr_fpr, lr_tpr, threshold = roc_curve(y_test, lr_probs)\n",
        "# plot the roc curve for the model\n",
        "plt.plot(ns_fpr, ns_tpr, linestyle='--', label='No Skill')\n",
        "plt.plot(lr_fpr, lr_tpr, marker='.', label='LGBM')\n",
        "# axis labels\n",
        "plt.xlabel('False Positive Rate')\n",
        "plt.ylabel('True Positive Rate')\n",
        "# show the legend\n",
        "plt.legend()\n",
        "# show the plot\n",
        "plt.show()"
      ],
      "execution_count": 60,
      "outputs": [
        {
          "output_type": "stream",
          "text": [
            "No Skill: ROC AUC=0.500\n",
            "Light GBM: ROC AUC=0.873\n"
          ],
          "name": "stdout"
        },
        {
          "output_type": "display_data",
          "data": {
            "image/png": "[encoded data removed]",
            "text/plain": [
              "<Figure size 432x288 with 1 Axes>"
            ]
          },
          "metadata": {
            "tags": []
          }
        }
      ]
    },
    {
      "cell_type": "code",
      "metadata": {
        "colab": {
          "base_uri": "https://localhost:8080/",
          "height": 314
        },
        "id": "PEc0wyhYkgjo",
        "outputId": "8d5035e4-1e30-4a08-de35-3ee6b2a41eac"
      },
      "source": [
        "## Confusion Matrix\n",
        "sns.heatmap(confusion_matrix(y_test, y_pred_lgb), annot = True, cmap=\"YlGnBu\")\n",
        "plt.title('Confusion Matrix')\n",
        "plt.show()\n",
        "confusion_matrix(y_test, y_pred_lgb)"
      ],
      "execution_count": 61,
      "outputs": [
        {
          "output_type": "display_data",
          "data": {
            "image/png": "[encoded data removed]",
            "text/plain": [
              "<Figure size 432x288 with 2 Axes>"
            ]
          },
          "metadata": {
            "tags": []
          }
        },
        {
          "output_type": "execute_result",
          "data": {
            "text/plain": [
              "array([[51582,  4649],\n",
              "       [ 5993, 11494]])"
            ]
          },
          "metadata": {
            "tags": []
          },
          "execution_count": 61
        }
      ]
    },
    {
      "cell_type": "code",
      "metadata": {
        "colab": {
          "base_uri": "https://localhost:8080/"
        },
        "id": "F3azGPuVk2RC",
        "outputId": "fc722f84-2174-494a-fea6-b96a0bd9d6ae"
      },
      "source": [
        "### Classification Report\n",
        "print(\"Classification report: {}\".format(classification_report(y_test,y_pred_lgb)))"
      ],
      "execution_count": 62,
      "outputs": [
        {
          "output_type": "stream",
          "text": [
            "Classification report:               precision    recall  f1-score   support\n",
            "\n",
            "           0       0.90      0.92      0.91     56231\n",
            "           1       0.71      0.66      0.68     17487\n",
            "\n",
            "    accuracy                           0.86     73718\n",
            "   macro avg       0.80      0.79      0.80     73718\n",
            "weighted avg       0.85      0.86      0.85     73718\n",
            "\n"
          ],
          "name": "stdout"
        }
      ]
    },
    {
      "cell_type": "code",
      "metadata": {
        "colab": {
          "base_uri": "https://localhost:8080/"
        },
        "id": "pjM48ZTRlVFD",
        "outputId": "5bc54960-0ba9-4b30-b7c3-8129af615cd0"
      },
      "source": [
        "## ROC-AUC Score\n",
        "print('Roc-Auc Score:', roc_auc_score(y_test, y_prob_lgb)*100,'%')"
      ],
      "execution_count": 63,
      "outputs": [
        {
          "output_type": "stream",
          "text": [
            "Roc-Auc Score: 87.29037234067853 %\n"
          ],
          "name": "stdout"
        }
      ]
    },
    {
      "cell_type": "code",
      "metadata": {
        "id": "7fy8Oye-pZbg"
      },
      "source": [
        ""
      ],
      "execution_count": null,
      "outputs": []
    },
    {
      "cell_type": "markdown",
      "metadata": {
        "id": "Je76btn2nKdv"
      },
      "source": [
        "Comparing 3 ROC_AUC Score LightGM Classifier have the highest score with 87.29%. I tested it on the external test datatset, the roc_auc score was 87.21%. "
      ]
    },
    {
      "cell_type": "code",
      "metadata": {
        "id": "2qSXr1lxq1aR"
      },
      "source": [
        ""
      ],
      "execution_count": null,
      "outputs": []
    }
  ]
}